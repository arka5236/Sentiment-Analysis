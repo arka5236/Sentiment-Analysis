{
  "nbformat": 4,
  "nbformat_minor": 0,
  "metadata": {
    "colab": {
      "provenance": []
    },
    "kernelspec": {
      "name": "python3",
      "display_name": "Python 3"
    },
    "language_info": {
      "name": "python"
    },
    "widgets": {
      "application/vnd.jupyter.widget-state+json": {
        "0763565f26d747d094dd3e00932501e5": {
          "model_module": "@jupyter-widgets/controls",
          "model_name": "HBoxModel",
          "model_module_version": "1.5.0",
          "state": {
            "_dom_classes": [],
            "_model_module": "@jupyter-widgets/controls",
            "_model_module_version": "1.5.0",
            "_model_name": "HBoxModel",
            "_view_count": null,
            "_view_module": "@jupyter-widgets/controls",
            "_view_module_version": "1.5.0",
            "_view_name": "HBoxView",
            "box_style": "",
            "children": [
              "IPY_MODEL_465f5341ecd84aa0bc8a8ee4f6077c21",
              "IPY_MODEL_db6f0710ace64cddad4822f391f9e5fa",
              "IPY_MODEL_632038be1cec4307a0a27941c014cf69"
            ],
            "layout": "IPY_MODEL_630ba505bc1a4ca786b15f0c95e84534"
          }
        },
        "465f5341ecd84aa0bc8a8ee4f6077c21": {
          "model_module": "@jupyter-widgets/controls",
          "model_name": "HTMLModel",
          "model_module_version": "1.5.0",
          "state": {
            "_dom_classes": [],
            "_model_module": "@jupyter-widgets/controls",
            "_model_module_version": "1.5.0",
            "_model_name": "HTMLModel",
            "_view_count": null,
            "_view_module": "@jupyter-widgets/controls",
            "_view_module_version": "1.5.0",
            "_view_name": "HTMLView",
            "description": "",
            "description_tooltip": null,
            "layout": "IPY_MODEL_9f2ff1f9b673481e89eb18aa83f69260",
            "placeholder": "​",
            "style": "IPY_MODEL_eb9086ab004949c1861afa1cad999b47",
            "value": "config.json: 100%"
          }
        },
        "db6f0710ace64cddad4822f391f9e5fa": {
          "model_module": "@jupyter-widgets/controls",
          "model_name": "FloatProgressModel",
          "model_module_version": "1.5.0",
          "state": {
            "_dom_classes": [],
            "_model_module": "@jupyter-widgets/controls",
            "_model_module_version": "1.5.0",
            "_model_name": "FloatProgressModel",
            "_view_count": null,
            "_view_module": "@jupyter-widgets/controls",
            "_view_module_version": "1.5.0",
            "_view_name": "ProgressView",
            "bar_style": "success",
            "description": "",
            "description_tooltip": null,
            "layout": "IPY_MODEL_cdc61a883c3c4ee48f75c1350389c9b6",
            "max": 747,
            "min": 0,
            "orientation": "horizontal",
            "style": "IPY_MODEL_b5abe66dd05c4f1bb79c20680a2a9d50",
            "value": 747
          }
        },
        "632038be1cec4307a0a27941c014cf69": {
          "model_module": "@jupyter-widgets/controls",
          "model_name": "HTMLModel",
          "model_module_version": "1.5.0",
          "state": {
            "_dom_classes": [],
            "_model_module": "@jupyter-widgets/controls",
            "_model_module_version": "1.5.0",
            "_model_name": "HTMLModel",
            "_view_count": null,
            "_view_module": "@jupyter-widgets/controls",
            "_view_module_version": "1.5.0",
            "_view_name": "HTMLView",
            "description": "",
            "description_tooltip": null,
            "layout": "IPY_MODEL_0ed672fa5ee54f759f66e7518056bd55",
            "placeholder": "​",
            "style": "IPY_MODEL_4f35ada1e6444059bdbdedc55e2f4c81",
            "value": " 747/747 [00:00&lt;00:00, 38.7kB/s]"
          }
        },
        "630ba505bc1a4ca786b15f0c95e84534": {
          "model_module": "@jupyter-widgets/base",
          "model_name": "LayoutModel",
          "model_module_version": "1.2.0",
          "state": {
            "_model_module": "@jupyter-widgets/base",
            "_model_module_version": "1.2.0",
            "_model_name": "LayoutModel",
            "_view_count": null,
            "_view_module": "@jupyter-widgets/base",
            "_view_module_version": "1.2.0",
            "_view_name": "LayoutView",
            "align_content": null,
            "align_items": null,
            "align_self": null,
            "border": null,
            "bottom": null,
            "display": null,
            "flex": null,
            "flex_flow": null,
            "grid_area": null,
            "grid_auto_columns": null,
            "grid_auto_flow": null,
            "grid_auto_rows": null,
            "grid_column": null,
            "grid_gap": null,
            "grid_row": null,
            "grid_template_areas": null,
            "grid_template_columns": null,
            "grid_template_rows": null,
            "height": null,
            "justify_content": null,
            "justify_items": null,
            "left": null,
            "margin": null,
            "max_height": null,
            "max_width": null,
            "min_height": null,
            "min_width": null,
            "object_fit": null,
            "object_position": null,
            "order": null,
            "overflow": null,
            "overflow_x": null,
            "overflow_y": null,
            "padding": null,
            "right": null,
            "top": null,
            "visibility": null,
            "width": null
          }
        },
        "9f2ff1f9b673481e89eb18aa83f69260": {
          "model_module": "@jupyter-widgets/base",
          "model_name": "LayoutModel",
          "model_module_version": "1.2.0",
          "state": {
            "_model_module": "@jupyter-widgets/base",
            "_model_module_version": "1.2.0",
            "_model_name": "LayoutModel",
            "_view_count": null,
            "_view_module": "@jupyter-widgets/base",
            "_view_module_version": "1.2.0",
            "_view_name": "LayoutView",
            "align_content": null,
            "align_items": null,
            "align_self": null,
            "border": null,
            "bottom": null,
            "display": null,
            "flex": null,
            "flex_flow": null,
            "grid_area": null,
            "grid_auto_columns": null,
            "grid_auto_flow": null,
            "grid_auto_rows": null,
            "grid_column": null,
            "grid_gap": null,
            "grid_row": null,
            "grid_template_areas": null,
            "grid_template_columns": null,
            "grid_template_rows": null,
            "height": null,
            "justify_content": null,
            "justify_items": null,
            "left": null,
            "margin": null,
            "max_height": null,
            "max_width": null,
            "min_height": null,
            "min_width": null,
            "object_fit": null,
            "object_position": null,
            "order": null,
            "overflow": null,
            "overflow_x": null,
            "overflow_y": null,
            "padding": null,
            "right": null,
            "top": null,
            "visibility": null,
            "width": null
          }
        },
        "eb9086ab004949c1861afa1cad999b47": {
          "model_module": "@jupyter-widgets/controls",
          "model_name": "DescriptionStyleModel",
          "model_module_version": "1.5.0",
          "state": {
            "_model_module": "@jupyter-widgets/controls",
            "_model_module_version": "1.5.0",
            "_model_name": "DescriptionStyleModel",
            "_view_count": null,
            "_view_module": "@jupyter-widgets/base",
            "_view_module_version": "1.2.0",
            "_view_name": "StyleView",
            "description_width": ""
          }
        },
        "cdc61a883c3c4ee48f75c1350389c9b6": {
          "model_module": "@jupyter-widgets/base",
          "model_name": "LayoutModel",
          "model_module_version": "1.2.0",
          "state": {
            "_model_module": "@jupyter-widgets/base",
            "_model_module_version": "1.2.0",
            "_model_name": "LayoutModel",
            "_view_count": null,
            "_view_module": "@jupyter-widgets/base",
            "_view_module_version": "1.2.0",
            "_view_name": "LayoutView",
            "align_content": null,
            "align_items": null,
            "align_self": null,
            "border": null,
            "bottom": null,
            "display": null,
            "flex": null,
            "flex_flow": null,
            "grid_area": null,
            "grid_auto_columns": null,
            "grid_auto_flow": null,
            "grid_auto_rows": null,
            "grid_column": null,
            "grid_gap": null,
            "grid_row": null,
            "grid_template_areas": null,
            "grid_template_columns": null,
            "grid_template_rows": null,
            "height": null,
            "justify_content": null,
            "justify_items": null,
            "left": null,
            "margin": null,
            "max_height": null,
            "max_width": null,
            "min_height": null,
            "min_width": null,
            "object_fit": null,
            "object_position": null,
            "order": null,
            "overflow": null,
            "overflow_x": null,
            "overflow_y": null,
            "padding": null,
            "right": null,
            "top": null,
            "visibility": null,
            "width": null
          }
        },
        "b5abe66dd05c4f1bb79c20680a2a9d50": {
          "model_module": "@jupyter-widgets/controls",
          "model_name": "ProgressStyleModel",
          "model_module_version": "1.5.0",
          "state": {
            "_model_module": "@jupyter-widgets/controls",
            "_model_module_version": "1.5.0",
            "_model_name": "ProgressStyleModel",
            "_view_count": null,
            "_view_module": "@jupyter-widgets/base",
            "_view_module_version": "1.2.0",
            "_view_name": "StyleView",
            "bar_color": null,
            "description_width": ""
          }
        },
        "0ed672fa5ee54f759f66e7518056bd55": {
          "model_module": "@jupyter-widgets/base",
          "model_name": "LayoutModel",
          "model_module_version": "1.2.0",
          "state": {
            "_model_module": "@jupyter-widgets/base",
            "_model_module_version": "1.2.0",
            "_model_name": "LayoutModel",
            "_view_count": null,
            "_view_module": "@jupyter-widgets/base",
            "_view_module_version": "1.2.0",
            "_view_name": "LayoutView",
            "align_content": null,
            "align_items": null,
            "align_self": null,
            "border": null,
            "bottom": null,
            "display": null,
            "flex": null,
            "flex_flow": null,
            "grid_area": null,
            "grid_auto_columns": null,
            "grid_auto_flow": null,
            "grid_auto_rows": null,
            "grid_column": null,
            "grid_gap": null,
            "grid_row": null,
            "grid_template_areas": null,
            "grid_template_columns": null,
            "grid_template_rows": null,
            "height": null,
            "justify_content": null,
            "justify_items": null,
            "left": null,
            "margin": null,
            "max_height": null,
            "max_width": null,
            "min_height": null,
            "min_width": null,
            "object_fit": null,
            "object_position": null,
            "order": null,
            "overflow": null,
            "overflow_x": null,
            "overflow_y": null,
            "padding": null,
            "right": null,
            "top": null,
            "visibility": null,
            "width": null
          }
        },
        "4f35ada1e6444059bdbdedc55e2f4c81": {
          "model_module": "@jupyter-widgets/controls",
          "model_name": "DescriptionStyleModel",
          "model_module_version": "1.5.0",
          "state": {
            "_model_module": "@jupyter-widgets/controls",
            "_model_module_version": "1.5.0",
            "_model_name": "DescriptionStyleModel",
            "_view_count": null,
            "_view_module": "@jupyter-widgets/base",
            "_view_module_version": "1.2.0",
            "_view_name": "StyleView",
            "description_width": ""
          }
        },
        "b04e4365b2414864aafa8bb7ba2e6e8a": {
          "model_module": "@jupyter-widgets/controls",
          "model_name": "HBoxModel",
          "model_module_version": "1.5.0",
          "state": {
            "_dom_classes": [],
            "_model_module": "@jupyter-widgets/controls",
            "_model_module_version": "1.5.0",
            "_model_name": "HBoxModel",
            "_view_count": null,
            "_view_module": "@jupyter-widgets/controls",
            "_view_module_version": "1.5.0",
            "_view_name": "HBoxView",
            "box_style": "",
            "children": [
              "IPY_MODEL_f2528c793521436db3fb4d3bdd06b710",
              "IPY_MODEL_b3dc262427334a3a9f87bf325d289d3f",
              "IPY_MODEL_b71199a0aaf54aa78ae64636d11ddcbb"
            ],
            "layout": "IPY_MODEL_f5f442f44f83427bb6c7e89be1178de4"
          }
        },
        "f2528c793521436db3fb4d3bdd06b710": {
          "model_module": "@jupyter-widgets/controls",
          "model_name": "HTMLModel",
          "model_module_version": "1.5.0",
          "state": {
            "_dom_classes": [],
            "_model_module": "@jupyter-widgets/controls",
            "_model_module_version": "1.5.0",
            "_model_name": "HTMLModel",
            "_view_count": null,
            "_view_module": "@jupyter-widgets/controls",
            "_view_module_version": "1.5.0",
            "_view_name": "HTMLView",
            "description": "",
            "description_tooltip": null,
            "layout": "IPY_MODEL_e4725309afae45c9849c7fbf5cf90bc2",
            "placeholder": "​",
            "style": "IPY_MODEL_8a04c2b21457453389d224e045d13adb",
            "value": "pytorch_model.bin: 100%"
          }
        },
        "b3dc262427334a3a9f87bf325d289d3f": {
          "model_module": "@jupyter-widgets/controls",
          "model_name": "FloatProgressModel",
          "model_module_version": "1.5.0",
          "state": {
            "_dom_classes": [],
            "_model_module": "@jupyter-widgets/controls",
            "_model_module_version": "1.5.0",
            "_model_name": "FloatProgressModel",
            "_view_count": null,
            "_view_module": "@jupyter-widgets/controls",
            "_view_module_version": "1.5.0",
            "_view_name": "ProgressView",
            "bar_style": "success",
            "description": "",
            "description_tooltip": null,
            "layout": "IPY_MODEL_35fdbf649473494980ec8978a60d4ef5",
            "max": 498679497,
            "min": 0,
            "orientation": "horizontal",
            "style": "IPY_MODEL_08955249e6fe48d093b2d20e5fbe70a4",
            "value": 498679497
          }
        },
        "b71199a0aaf54aa78ae64636d11ddcbb": {
          "model_module": "@jupyter-widgets/controls",
          "model_name": "HTMLModel",
          "model_module_version": "1.5.0",
          "state": {
            "_dom_classes": [],
            "_model_module": "@jupyter-widgets/controls",
            "_model_module_version": "1.5.0",
            "_model_name": "HTMLModel",
            "_view_count": null,
            "_view_module": "@jupyter-widgets/controls",
            "_view_module_version": "1.5.0",
            "_view_name": "HTMLView",
            "description": "",
            "description_tooltip": null,
            "layout": "IPY_MODEL_77ec8b278a1d4f028f66911415096d26",
            "placeholder": "​",
            "style": "IPY_MODEL_0cb4ba67b7da49ab96d5227940e4573e",
            "value": " 499M/499M [00:06&lt;00:00, 97.2MB/s]"
          }
        },
        "f5f442f44f83427bb6c7e89be1178de4": {
          "model_module": "@jupyter-widgets/base",
          "model_name": "LayoutModel",
          "model_module_version": "1.2.0",
          "state": {
            "_model_module": "@jupyter-widgets/base",
            "_model_module_version": "1.2.0",
            "_model_name": "LayoutModel",
            "_view_count": null,
            "_view_module": "@jupyter-widgets/base",
            "_view_module_version": "1.2.0",
            "_view_name": "LayoutView",
            "align_content": null,
            "align_items": null,
            "align_self": null,
            "border": null,
            "bottom": null,
            "display": null,
            "flex": null,
            "flex_flow": null,
            "grid_area": null,
            "grid_auto_columns": null,
            "grid_auto_flow": null,
            "grid_auto_rows": null,
            "grid_column": null,
            "grid_gap": null,
            "grid_row": null,
            "grid_template_areas": null,
            "grid_template_columns": null,
            "grid_template_rows": null,
            "height": null,
            "justify_content": null,
            "justify_items": null,
            "left": null,
            "margin": null,
            "max_height": null,
            "max_width": null,
            "min_height": null,
            "min_width": null,
            "object_fit": null,
            "object_position": null,
            "order": null,
            "overflow": null,
            "overflow_x": null,
            "overflow_y": null,
            "padding": null,
            "right": null,
            "top": null,
            "visibility": null,
            "width": null
          }
        },
        "e4725309afae45c9849c7fbf5cf90bc2": {
          "model_module": "@jupyter-widgets/base",
          "model_name": "LayoutModel",
          "model_module_version": "1.2.0",
          "state": {
            "_model_module": "@jupyter-widgets/base",
            "_model_module_version": "1.2.0",
            "_model_name": "LayoutModel",
            "_view_count": null,
            "_view_module": "@jupyter-widgets/base",
            "_view_module_version": "1.2.0",
            "_view_name": "LayoutView",
            "align_content": null,
            "align_items": null,
            "align_self": null,
            "border": null,
            "bottom": null,
            "display": null,
            "flex": null,
            "flex_flow": null,
            "grid_area": null,
            "grid_auto_columns": null,
            "grid_auto_flow": null,
            "grid_auto_rows": null,
            "grid_column": null,
            "grid_gap": null,
            "grid_row": null,
            "grid_template_areas": null,
            "grid_template_columns": null,
            "grid_template_rows": null,
            "height": null,
            "justify_content": null,
            "justify_items": null,
            "left": null,
            "margin": null,
            "max_height": null,
            "max_width": null,
            "min_height": null,
            "min_width": null,
            "object_fit": null,
            "object_position": null,
            "order": null,
            "overflow": null,
            "overflow_x": null,
            "overflow_y": null,
            "padding": null,
            "right": null,
            "top": null,
            "visibility": null,
            "width": null
          }
        },
        "8a04c2b21457453389d224e045d13adb": {
          "model_module": "@jupyter-widgets/controls",
          "model_name": "DescriptionStyleModel",
          "model_module_version": "1.5.0",
          "state": {
            "_model_module": "@jupyter-widgets/controls",
            "_model_module_version": "1.5.0",
            "_model_name": "DescriptionStyleModel",
            "_view_count": null,
            "_view_module": "@jupyter-widgets/base",
            "_view_module_version": "1.2.0",
            "_view_name": "StyleView",
            "description_width": ""
          }
        },
        "35fdbf649473494980ec8978a60d4ef5": {
          "model_module": "@jupyter-widgets/base",
          "model_name": "LayoutModel",
          "model_module_version": "1.2.0",
          "state": {
            "_model_module": "@jupyter-widgets/base",
            "_model_module_version": "1.2.0",
            "_model_name": "LayoutModel",
            "_view_count": null,
            "_view_module": "@jupyter-widgets/base",
            "_view_module_version": "1.2.0",
            "_view_name": "LayoutView",
            "align_content": null,
            "align_items": null,
            "align_self": null,
            "border": null,
            "bottom": null,
            "display": null,
            "flex": null,
            "flex_flow": null,
            "grid_area": null,
            "grid_auto_columns": null,
            "grid_auto_flow": null,
            "grid_auto_rows": null,
            "grid_column": null,
            "grid_gap": null,
            "grid_row": null,
            "grid_template_areas": null,
            "grid_template_columns": null,
            "grid_template_rows": null,
            "height": null,
            "justify_content": null,
            "justify_items": null,
            "left": null,
            "margin": null,
            "max_height": null,
            "max_width": null,
            "min_height": null,
            "min_width": null,
            "object_fit": null,
            "object_position": null,
            "order": null,
            "overflow": null,
            "overflow_x": null,
            "overflow_y": null,
            "padding": null,
            "right": null,
            "top": null,
            "visibility": null,
            "width": null
          }
        },
        "08955249e6fe48d093b2d20e5fbe70a4": {
          "model_module": "@jupyter-widgets/controls",
          "model_name": "ProgressStyleModel",
          "model_module_version": "1.5.0",
          "state": {
            "_model_module": "@jupyter-widgets/controls",
            "_model_module_version": "1.5.0",
            "_model_name": "ProgressStyleModel",
            "_view_count": null,
            "_view_module": "@jupyter-widgets/base",
            "_view_module_version": "1.2.0",
            "_view_name": "StyleView",
            "bar_color": null,
            "description_width": ""
          }
        },
        "77ec8b278a1d4f028f66911415096d26": {
          "model_module": "@jupyter-widgets/base",
          "model_name": "LayoutModel",
          "model_module_version": "1.2.0",
          "state": {
            "_model_module": "@jupyter-widgets/base",
            "_model_module_version": "1.2.0",
            "_model_name": "LayoutModel",
            "_view_count": null,
            "_view_module": "@jupyter-widgets/base",
            "_view_module_version": "1.2.0",
            "_view_name": "LayoutView",
            "align_content": null,
            "align_items": null,
            "align_self": null,
            "border": null,
            "bottom": null,
            "display": null,
            "flex": null,
            "flex_flow": null,
            "grid_area": null,
            "grid_auto_columns": null,
            "grid_auto_flow": null,
            "grid_auto_rows": null,
            "grid_column": null,
            "grid_gap": null,
            "grid_row": null,
            "grid_template_areas": null,
            "grid_template_columns": null,
            "grid_template_rows": null,
            "height": null,
            "justify_content": null,
            "justify_items": null,
            "left": null,
            "margin": null,
            "max_height": null,
            "max_width": null,
            "min_height": null,
            "min_width": null,
            "object_fit": null,
            "object_position": null,
            "order": null,
            "overflow": null,
            "overflow_x": null,
            "overflow_y": null,
            "padding": null,
            "right": null,
            "top": null,
            "visibility": null,
            "width": null
          }
        },
        "0cb4ba67b7da49ab96d5227940e4573e": {
          "model_module": "@jupyter-widgets/controls",
          "model_name": "DescriptionStyleModel",
          "model_module_version": "1.5.0",
          "state": {
            "_model_module": "@jupyter-widgets/controls",
            "_model_module_version": "1.5.0",
            "_model_name": "DescriptionStyleModel",
            "_view_count": null,
            "_view_module": "@jupyter-widgets/base",
            "_view_module_version": "1.2.0",
            "_view_name": "StyleView",
            "description_width": ""
          }
        },
        "f9f0ce4a070240e3b0e6a35984cfcef9": {
          "model_module": "@jupyter-widgets/controls",
          "model_name": "HBoxModel",
          "model_module_version": "1.5.0",
          "state": {
            "_dom_classes": [],
            "_model_module": "@jupyter-widgets/controls",
            "_model_module_version": "1.5.0",
            "_model_name": "HBoxModel",
            "_view_count": null,
            "_view_module": "@jupyter-widgets/controls",
            "_view_module_version": "1.5.0",
            "_view_name": "HBoxView",
            "box_style": "",
            "children": [
              "IPY_MODEL_dec5bc7b240746259992415fabbd6538",
              "IPY_MODEL_37fbf3fd767348b780790e9cf7b6fd73",
              "IPY_MODEL_82b6e748f821448caa7bb8ddcf840df5"
            ],
            "layout": "IPY_MODEL_988f741e9fec441383989f2fd0439935"
          }
        },
        "dec5bc7b240746259992415fabbd6538": {
          "model_module": "@jupyter-widgets/controls",
          "model_name": "HTMLModel",
          "model_module_version": "1.5.0",
          "state": {
            "_dom_classes": [],
            "_model_module": "@jupyter-widgets/controls",
            "_model_module_version": "1.5.0",
            "_model_name": "HTMLModel",
            "_view_count": null,
            "_view_module": "@jupyter-widgets/controls",
            "_view_module_version": "1.5.0",
            "_view_name": "HTMLView",
            "description": "",
            "description_tooltip": null,
            "layout": "IPY_MODEL_fefb850650a24774b385d46d8f63c5a5",
            "placeholder": "​",
            "style": "IPY_MODEL_35a7c6bbe6c045f4b7cc14ad81c56a12",
            "value": "model.safetensors: 100%"
          }
        },
        "37fbf3fd767348b780790e9cf7b6fd73": {
          "model_module": "@jupyter-widgets/controls",
          "model_name": "FloatProgressModel",
          "model_module_version": "1.5.0",
          "state": {
            "_dom_classes": [],
            "_model_module": "@jupyter-widgets/controls",
            "_model_module_version": "1.5.0",
            "_model_name": "FloatProgressModel",
            "_view_count": null,
            "_view_module": "@jupyter-widgets/controls",
            "_view_module_version": "1.5.0",
            "_view_name": "ProgressView",
            "bar_style": "success",
            "description": "",
            "description_tooltip": null,
            "layout": "IPY_MODEL_11947e92a2dd405780e199d4d81358c6",
            "max": 498620100,
            "min": 0,
            "orientation": "horizontal",
            "style": "IPY_MODEL_232c2b2ba72944aab6cbe975a40681a4",
            "value": 498620100
          }
        },
        "82b6e748f821448caa7bb8ddcf840df5": {
          "model_module": "@jupyter-widgets/controls",
          "model_name": "HTMLModel",
          "model_module_version": "1.5.0",
          "state": {
            "_dom_classes": [],
            "_model_module": "@jupyter-widgets/controls",
            "_model_module_version": "1.5.0",
            "_model_name": "HTMLModel",
            "_view_count": null,
            "_view_module": "@jupyter-widgets/controls",
            "_view_module_version": "1.5.0",
            "_view_name": "HTMLView",
            "description": "",
            "description_tooltip": null,
            "layout": "IPY_MODEL_bc5d29caf10d4022ab0c820a286efa09",
            "placeholder": "​",
            "style": "IPY_MODEL_31f68d517c5c43789dd5253ce403a8e4",
            "value": " 499M/499M [00:03&lt;00:00, 180MB/s]"
          }
        },
        "988f741e9fec441383989f2fd0439935": {
          "model_module": "@jupyter-widgets/base",
          "model_name": "LayoutModel",
          "model_module_version": "1.2.0",
          "state": {
            "_model_module": "@jupyter-widgets/base",
            "_model_module_version": "1.2.0",
            "_model_name": "LayoutModel",
            "_view_count": null,
            "_view_module": "@jupyter-widgets/base",
            "_view_module_version": "1.2.0",
            "_view_name": "LayoutView",
            "align_content": null,
            "align_items": null,
            "align_self": null,
            "border": null,
            "bottom": null,
            "display": null,
            "flex": null,
            "flex_flow": null,
            "grid_area": null,
            "grid_auto_columns": null,
            "grid_auto_flow": null,
            "grid_auto_rows": null,
            "grid_column": null,
            "grid_gap": null,
            "grid_row": null,
            "grid_template_areas": null,
            "grid_template_columns": null,
            "grid_template_rows": null,
            "height": null,
            "justify_content": null,
            "justify_items": null,
            "left": null,
            "margin": null,
            "max_height": null,
            "max_width": null,
            "min_height": null,
            "min_width": null,
            "object_fit": null,
            "object_position": null,
            "order": null,
            "overflow": null,
            "overflow_x": null,
            "overflow_y": null,
            "padding": null,
            "right": null,
            "top": null,
            "visibility": null,
            "width": null
          }
        },
        "fefb850650a24774b385d46d8f63c5a5": {
          "model_module": "@jupyter-widgets/base",
          "model_name": "LayoutModel",
          "model_module_version": "1.2.0",
          "state": {
            "_model_module": "@jupyter-widgets/base",
            "_model_module_version": "1.2.0",
            "_model_name": "LayoutModel",
            "_view_count": null,
            "_view_module": "@jupyter-widgets/base",
            "_view_module_version": "1.2.0",
            "_view_name": "LayoutView",
            "align_content": null,
            "align_items": null,
            "align_self": null,
            "border": null,
            "bottom": null,
            "display": null,
            "flex": null,
            "flex_flow": null,
            "grid_area": null,
            "grid_auto_columns": null,
            "grid_auto_flow": null,
            "grid_auto_rows": null,
            "grid_column": null,
            "grid_gap": null,
            "grid_row": null,
            "grid_template_areas": null,
            "grid_template_columns": null,
            "grid_template_rows": null,
            "height": null,
            "justify_content": null,
            "justify_items": null,
            "left": null,
            "margin": null,
            "max_height": null,
            "max_width": null,
            "min_height": null,
            "min_width": null,
            "object_fit": null,
            "object_position": null,
            "order": null,
            "overflow": null,
            "overflow_x": null,
            "overflow_y": null,
            "padding": null,
            "right": null,
            "top": null,
            "visibility": null,
            "width": null
          }
        },
        "35a7c6bbe6c045f4b7cc14ad81c56a12": {
          "model_module": "@jupyter-widgets/controls",
          "model_name": "DescriptionStyleModel",
          "model_module_version": "1.5.0",
          "state": {
            "_model_module": "@jupyter-widgets/controls",
            "_model_module_version": "1.5.0",
            "_model_name": "DescriptionStyleModel",
            "_view_count": null,
            "_view_module": "@jupyter-widgets/base",
            "_view_module_version": "1.2.0",
            "_view_name": "StyleView",
            "description_width": ""
          }
        },
        "11947e92a2dd405780e199d4d81358c6": {
          "model_module": "@jupyter-widgets/base",
          "model_name": "LayoutModel",
          "model_module_version": "1.2.0",
          "state": {
            "_model_module": "@jupyter-widgets/base",
            "_model_module_version": "1.2.0",
            "_model_name": "LayoutModel",
            "_view_count": null,
            "_view_module": "@jupyter-widgets/base",
            "_view_module_version": "1.2.0",
            "_view_name": "LayoutView",
            "align_content": null,
            "align_items": null,
            "align_self": null,
            "border": null,
            "bottom": null,
            "display": null,
            "flex": null,
            "flex_flow": null,
            "grid_area": null,
            "grid_auto_columns": null,
            "grid_auto_flow": null,
            "grid_auto_rows": null,
            "grid_column": null,
            "grid_gap": null,
            "grid_row": null,
            "grid_template_areas": null,
            "grid_template_columns": null,
            "grid_template_rows": null,
            "height": null,
            "justify_content": null,
            "justify_items": null,
            "left": null,
            "margin": null,
            "max_height": null,
            "max_width": null,
            "min_height": null,
            "min_width": null,
            "object_fit": null,
            "object_position": null,
            "order": null,
            "overflow": null,
            "overflow_x": null,
            "overflow_y": null,
            "padding": null,
            "right": null,
            "top": null,
            "visibility": null,
            "width": null
          }
        },
        "232c2b2ba72944aab6cbe975a40681a4": {
          "model_module": "@jupyter-widgets/controls",
          "model_name": "ProgressStyleModel",
          "model_module_version": "1.5.0",
          "state": {
            "_model_module": "@jupyter-widgets/controls",
            "_model_module_version": "1.5.0",
            "_model_name": "ProgressStyleModel",
            "_view_count": null,
            "_view_module": "@jupyter-widgets/base",
            "_view_module_version": "1.2.0",
            "_view_name": "StyleView",
            "bar_color": null,
            "description_width": ""
          }
        },
        "bc5d29caf10d4022ab0c820a286efa09": {
          "model_module": "@jupyter-widgets/base",
          "model_name": "LayoutModel",
          "model_module_version": "1.2.0",
          "state": {
            "_model_module": "@jupyter-widgets/base",
            "_model_module_version": "1.2.0",
            "_model_name": "LayoutModel",
            "_view_count": null,
            "_view_module": "@jupyter-widgets/base",
            "_view_module_version": "1.2.0",
            "_view_name": "LayoutView",
            "align_content": null,
            "align_items": null,
            "align_self": null,
            "border": null,
            "bottom": null,
            "display": null,
            "flex": null,
            "flex_flow": null,
            "grid_area": null,
            "grid_auto_columns": null,
            "grid_auto_flow": null,
            "grid_auto_rows": null,
            "grid_column": null,
            "grid_gap": null,
            "grid_row": null,
            "grid_template_areas": null,
            "grid_template_columns": null,
            "grid_template_rows": null,
            "height": null,
            "justify_content": null,
            "justify_items": null,
            "left": null,
            "margin": null,
            "max_height": null,
            "max_width": null,
            "min_height": null,
            "min_width": null,
            "object_fit": null,
            "object_position": null,
            "order": null,
            "overflow": null,
            "overflow_x": null,
            "overflow_y": null,
            "padding": null,
            "right": null,
            "top": null,
            "visibility": null,
            "width": null
          }
        },
        "31f68d517c5c43789dd5253ce403a8e4": {
          "model_module": "@jupyter-widgets/controls",
          "model_name": "DescriptionStyleModel",
          "model_module_version": "1.5.0",
          "state": {
            "_model_module": "@jupyter-widgets/controls",
            "_model_module_version": "1.5.0",
            "_model_name": "DescriptionStyleModel",
            "_view_count": null,
            "_view_module": "@jupyter-widgets/base",
            "_view_module_version": "1.2.0",
            "_view_name": "StyleView",
            "description_width": ""
          }
        },
        "82c250626ab045bd98647cc13037865f": {
          "model_module": "@jupyter-widgets/controls",
          "model_name": "HBoxModel",
          "model_module_version": "1.5.0",
          "state": {
            "_dom_classes": [],
            "_model_module": "@jupyter-widgets/controls",
            "_model_module_version": "1.5.0",
            "_model_name": "HBoxModel",
            "_view_count": null,
            "_view_module": "@jupyter-widgets/controls",
            "_view_module_version": "1.5.0",
            "_view_name": "HBoxView",
            "box_style": "",
            "children": [
              "IPY_MODEL_d0ae1fec6a554444a65e5df65e3bffef",
              "IPY_MODEL_58097b27735d44feb804823645b0f3aa",
              "IPY_MODEL_f050abb786e043a1b82a160f6495077a"
            ],
            "layout": "IPY_MODEL_d587dcd59cb444feb87b835ab8885025"
          }
        },
        "d0ae1fec6a554444a65e5df65e3bffef": {
          "model_module": "@jupyter-widgets/controls",
          "model_name": "HTMLModel",
          "model_module_version": "1.5.0",
          "state": {
            "_dom_classes": [],
            "_model_module": "@jupyter-widgets/controls",
            "_model_module_version": "1.5.0",
            "_model_name": "HTMLModel",
            "_view_count": null,
            "_view_module": "@jupyter-widgets/controls",
            "_view_module_version": "1.5.0",
            "_view_name": "HTMLView",
            "description": "",
            "description_tooltip": null,
            "layout": "IPY_MODEL_fb55e8b7f21a40198cde837b3d8208be",
            "placeholder": "​",
            "style": "IPY_MODEL_9a8f4b42bbd24c29a3932fbfec429ebc",
            "value": "vocab.json: 100%"
          }
        },
        "58097b27735d44feb804823645b0f3aa": {
          "model_module": "@jupyter-widgets/controls",
          "model_name": "FloatProgressModel",
          "model_module_version": "1.5.0",
          "state": {
            "_dom_classes": [],
            "_model_module": "@jupyter-widgets/controls",
            "_model_module_version": "1.5.0",
            "_model_name": "FloatProgressModel",
            "_view_count": null,
            "_view_module": "@jupyter-widgets/controls",
            "_view_module_version": "1.5.0",
            "_view_name": "ProgressView",
            "bar_style": "success",
            "description": "",
            "description_tooltip": null,
            "layout": "IPY_MODEL_b63aa61561e9438386a91c98b7db4c09",
            "max": 898822,
            "min": 0,
            "orientation": "horizontal",
            "style": "IPY_MODEL_d932d5124f5b4b0c952197b7a3bca911",
            "value": 898822
          }
        },
        "f050abb786e043a1b82a160f6495077a": {
          "model_module": "@jupyter-widgets/controls",
          "model_name": "HTMLModel",
          "model_module_version": "1.5.0",
          "state": {
            "_dom_classes": [],
            "_model_module": "@jupyter-widgets/controls",
            "_model_module_version": "1.5.0",
            "_model_name": "HTMLModel",
            "_view_count": null,
            "_view_module": "@jupyter-widgets/controls",
            "_view_module_version": "1.5.0",
            "_view_name": "HTMLView",
            "description": "",
            "description_tooltip": null,
            "layout": "IPY_MODEL_171c36854ca142528416a280a01df41e",
            "placeholder": "​",
            "style": "IPY_MODEL_ee2ed69e052f4f1f88556c37d6b64a8b",
            "value": " 899k/899k [00:00&lt;00:00, 7.24MB/s]"
          }
        },
        "d587dcd59cb444feb87b835ab8885025": {
          "model_module": "@jupyter-widgets/base",
          "model_name": "LayoutModel",
          "model_module_version": "1.2.0",
          "state": {
            "_model_module": "@jupyter-widgets/base",
            "_model_module_version": "1.2.0",
            "_model_name": "LayoutModel",
            "_view_count": null,
            "_view_module": "@jupyter-widgets/base",
            "_view_module_version": "1.2.0",
            "_view_name": "LayoutView",
            "align_content": null,
            "align_items": null,
            "align_self": null,
            "border": null,
            "bottom": null,
            "display": null,
            "flex": null,
            "flex_flow": null,
            "grid_area": null,
            "grid_auto_columns": null,
            "grid_auto_flow": null,
            "grid_auto_rows": null,
            "grid_column": null,
            "grid_gap": null,
            "grid_row": null,
            "grid_template_areas": null,
            "grid_template_columns": null,
            "grid_template_rows": null,
            "height": null,
            "justify_content": null,
            "justify_items": null,
            "left": null,
            "margin": null,
            "max_height": null,
            "max_width": null,
            "min_height": null,
            "min_width": null,
            "object_fit": null,
            "object_position": null,
            "order": null,
            "overflow": null,
            "overflow_x": null,
            "overflow_y": null,
            "padding": null,
            "right": null,
            "top": null,
            "visibility": null,
            "width": null
          }
        },
        "fb55e8b7f21a40198cde837b3d8208be": {
          "model_module": "@jupyter-widgets/base",
          "model_name": "LayoutModel",
          "model_module_version": "1.2.0",
          "state": {
            "_model_module": "@jupyter-widgets/base",
            "_model_module_version": "1.2.0",
            "_model_name": "LayoutModel",
            "_view_count": null,
            "_view_module": "@jupyter-widgets/base",
            "_view_module_version": "1.2.0",
            "_view_name": "LayoutView",
            "align_content": null,
            "align_items": null,
            "align_self": null,
            "border": null,
            "bottom": null,
            "display": null,
            "flex": null,
            "flex_flow": null,
            "grid_area": null,
            "grid_auto_columns": null,
            "grid_auto_flow": null,
            "grid_auto_rows": null,
            "grid_column": null,
            "grid_gap": null,
            "grid_row": null,
            "grid_template_areas": null,
            "grid_template_columns": null,
            "grid_template_rows": null,
            "height": null,
            "justify_content": null,
            "justify_items": null,
            "left": null,
            "margin": null,
            "max_height": null,
            "max_width": null,
            "min_height": null,
            "min_width": null,
            "object_fit": null,
            "object_position": null,
            "order": null,
            "overflow": null,
            "overflow_x": null,
            "overflow_y": null,
            "padding": null,
            "right": null,
            "top": null,
            "visibility": null,
            "width": null
          }
        },
        "9a8f4b42bbd24c29a3932fbfec429ebc": {
          "model_module": "@jupyter-widgets/controls",
          "model_name": "DescriptionStyleModel",
          "model_module_version": "1.5.0",
          "state": {
            "_model_module": "@jupyter-widgets/controls",
            "_model_module_version": "1.5.0",
            "_model_name": "DescriptionStyleModel",
            "_view_count": null,
            "_view_module": "@jupyter-widgets/base",
            "_view_module_version": "1.2.0",
            "_view_name": "StyleView",
            "description_width": ""
          }
        },
        "b63aa61561e9438386a91c98b7db4c09": {
          "model_module": "@jupyter-widgets/base",
          "model_name": "LayoutModel",
          "model_module_version": "1.2.0",
          "state": {
            "_model_module": "@jupyter-widgets/base",
            "_model_module_version": "1.2.0",
            "_model_name": "LayoutModel",
            "_view_count": null,
            "_view_module": "@jupyter-widgets/base",
            "_view_module_version": "1.2.0",
            "_view_name": "LayoutView",
            "align_content": null,
            "align_items": null,
            "align_self": null,
            "border": null,
            "bottom": null,
            "display": null,
            "flex": null,
            "flex_flow": null,
            "grid_area": null,
            "grid_auto_columns": null,
            "grid_auto_flow": null,
            "grid_auto_rows": null,
            "grid_column": null,
            "grid_gap": null,
            "grid_row": null,
            "grid_template_areas": null,
            "grid_template_columns": null,
            "grid_template_rows": null,
            "height": null,
            "justify_content": null,
            "justify_items": null,
            "left": null,
            "margin": null,
            "max_height": null,
            "max_width": null,
            "min_height": null,
            "min_width": null,
            "object_fit": null,
            "object_position": null,
            "order": null,
            "overflow": null,
            "overflow_x": null,
            "overflow_y": null,
            "padding": null,
            "right": null,
            "top": null,
            "visibility": null,
            "width": null
          }
        },
        "d932d5124f5b4b0c952197b7a3bca911": {
          "model_module": "@jupyter-widgets/controls",
          "model_name": "ProgressStyleModel",
          "model_module_version": "1.5.0",
          "state": {
            "_model_module": "@jupyter-widgets/controls",
            "_model_module_version": "1.5.0",
            "_model_name": "ProgressStyleModel",
            "_view_count": null,
            "_view_module": "@jupyter-widgets/base",
            "_view_module_version": "1.2.0",
            "_view_name": "StyleView",
            "bar_color": null,
            "description_width": ""
          }
        },
        "171c36854ca142528416a280a01df41e": {
          "model_module": "@jupyter-widgets/base",
          "model_name": "LayoutModel",
          "model_module_version": "1.2.0",
          "state": {
            "_model_module": "@jupyter-widgets/base",
            "_model_module_version": "1.2.0",
            "_model_name": "LayoutModel",
            "_view_count": null,
            "_view_module": "@jupyter-widgets/base",
            "_view_module_version": "1.2.0",
            "_view_name": "LayoutView",
            "align_content": null,
            "align_items": null,
            "align_self": null,
            "border": null,
            "bottom": null,
            "display": null,
            "flex": null,
            "flex_flow": null,
            "grid_area": null,
            "grid_auto_columns": null,
            "grid_auto_flow": null,
            "grid_auto_rows": null,
            "grid_column": null,
            "grid_gap": null,
            "grid_row": null,
            "grid_template_areas": null,
            "grid_template_columns": null,
            "grid_template_rows": null,
            "height": null,
            "justify_content": null,
            "justify_items": null,
            "left": null,
            "margin": null,
            "max_height": null,
            "max_width": null,
            "min_height": null,
            "min_width": null,
            "object_fit": null,
            "object_position": null,
            "order": null,
            "overflow": null,
            "overflow_x": null,
            "overflow_y": null,
            "padding": null,
            "right": null,
            "top": null,
            "visibility": null,
            "width": null
          }
        },
        "ee2ed69e052f4f1f88556c37d6b64a8b": {
          "model_module": "@jupyter-widgets/controls",
          "model_name": "DescriptionStyleModel",
          "model_module_version": "1.5.0",
          "state": {
            "_model_module": "@jupyter-widgets/controls",
            "_model_module_version": "1.5.0",
            "_model_name": "DescriptionStyleModel",
            "_view_count": null,
            "_view_module": "@jupyter-widgets/base",
            "_view_module_version": "1.2.0",
            "_view_name": "StyleView",
            "description_width": ""
          }
        },
        "84229251ffe844c7a9c14b6e5b40b4e4": {
          "model_module": "@jupyter-widgets/controls",
          "model_name": "HBoxModel",
          "model_module_version": "1.5.0",
          "state": {
            "_dom_classes": [],
            "_model_module": "@jupyter-widgets/controls",
            "_model_module_version": "1.5.0",
            "_model_name": "HBoxModel",
            "_view_count": null,
            "_view_module": "@jupyter-widgets/controls",
            "_view_module_version": "1.5.0",
            "_view_name": "HBoxView",
            "box_style": "",
            "children": [
              "IPY_MODEL_0d13392530dc4518827b4533c983f66d",
              "IPY_MODEL_a5557ec08f6a4578abeca400cd240c8a",
              "IPY_MODEL_498808421ffc40e4b0d426dd891f4def"
            ],
            "layout": "IPY_MODEL_535658ec89594dacbd5c6bd703b0aa8e"
          }
        },
        "0d13392530dc4518827b4533c983f66d": {
          "model_module": "@jupyter-widgets/controls",
          "model_name": "HTMLModel",
          "model_module_version": "1.5.0",
          "state": {
            "_dom_classes": [],
            "_model_module": "@jupyter-widgets/controls",
            "_model_module_version": "1.5.0",
            "_model_name": "HTMLModel",
            "_view_count": null,
            "_view_module": "@jupyter-widgets/controls",
            "_view_module_version": "1.5.0",
            "_view_name": "HTMLView",
            "description": "",
            "description_tooltip": null,
            "layout": "IPY_MODEL_9ab1ac877f30417baaa3995980af42d2",
            "placeholder": "​",
            "style": "IPY_MODEL_f7da2251cc5d4c65a326266c4441d4b8",
            "value": "merges.txt: 100%"
          }
        },
        "a5557ec08f6a4578abeca400cd240c8a": {
          "model_module": "@jupyter-widgets/controls",
          "model_name": "FloatProgressModel",
          "model_module_version": "1.5.0",
          "state": {
            "_dom_classes": [],
            "_model_module": "@jupyter-widgets/controls",
            "_model_module_version": "1.5.0",
            "_model_name": "FloatProgressModel",
            "_view_count": null,
            "_view_module": "@jupyter-widgets/controls",
            "_view_module_version": "1.5.0",
            "_view_name": "ProgressView",
            "bar_style": "success",
            "description": "",
            "description_tooltip": null,
            "layout": "IPY_MODEL_ac97254198c9418fb7157c11e427e8ee",
            "max": 456318,
            "min": 0,
            "orientation": "horizontal",
            "style": "IPY_MODEL_303325981b734fd4bdd3c2ae83e10a4f",
            "value": 456318
          }
        },
        "498808421ffc40e4b0d426dd891f4def": {
          "model_module": "@jupyter-widgets/controls",
          "model_name": "HTMLModel",
          "model_module_version": "1.5.0",
          "state": {
            "_dom_classes": [],
            "_model_module": "@jupyter-widgets/controls",
            "_model_module_version": "1.5.0",
            "_model_name": "HTMLModel",
            "_view_count": null,
            "_view_module": "@jupyter-widgets/controls",
            "_view_module_version": "1.5.0",
            "_view_name": "HTMLView",
            "description": "",
            "description_tooltip": null,
            "layout": "IPY_MODEL_696f4183bc23451ba45ceff8571dbccb",
            "placeholder": "​",
            "style": "IPY_MODEL_b692c6b4c7fa4f17a6c053c3027d4778",
            "value": " 456k/456k [00:00&lt;00:00, 3.55MB/s]"
          }
        },
        "535658ec89594dacbd5c6bd703b0aa8e": {
          "model_module": "@jupyter-widgets/base",
          "model_name": "LayoutModel",
          "model_module_version": "1.2.0",
          "state": {
            "_model_module": "@jupyter-widgets/base",
            "_model_module_version": "1.2.0",
            "_model_name": "LayoutModel",
            "_view_count": null,
            "_view_module": "@jupyter-widgets/base",
            "_view_module_version": "1.2.0",
            "_view_name": "LayoutView",
            "align_content": null,
            "align_items": null,
            "align_self": null,
            "border": null,
            "bottom": null,
            "display": null,
            "flex": null,
            "flex_flow": null,
            "grid_area": null,
            "grid_auto_columns": null,
            "grid_auto_flow": null,
            "grid_auto_rows": null,
            "grid_column": null,
            "grid_gap": null,
            "grid_row": null,
            "grid_template_areas": null,
            "grid_template_columns": null,
            "grid_template_rows": null,
            "height": null,
            "justify_content": null,
            "justify_items": null,
            "left": null,
            "margin": null,
            "max_height": null,
            "max_width": null,
            "min_height": null,
            "min_width": null,
            "object_fit": null,
            "object_position": null,
            "order": null,
            "overflow": null,
            "overflow_x": null,
            "overflow_y": null,
            "padding": null,
            "right": null,
            "top": null,
            "visibility": null,
            "width": null
          }
        },
        "9ab1ac877f30417baaa3995980af42d2": {
          "model_module": "@jupyter-widgets/base",
          "model_name": "LayoutModel",
          "model_module_version": "1.2.0",
          "state": {
            "_model_module": "@jupyter-widgets/base",
            "_model_module_version": "1.2.0",
            "_model_name": "LayoutModel",
            "_view_count": null,
            "_view_module": "@jupyter-widgets/base",
            "_view_module_version": "1.2.0",
            "_view_name": "LayoutView",
            "align_content": null,
            "align_items": null,
            "align_self": null,
            "border": null,
            "bottom": null,
            "display": null,
            "flex": null,
            "flex_flow": null,
            "grid_area": null,
            "grid_auto_columns": null,
            "grid_auto_flow": null,
            "grid_auto_rows": null,
            "grid_column": null,
            "grid_gap": null,
            "grid_row": null,
            "grid_template_areas": null,
            "grid_template_columns": null,
            "grid_template_rows": null,
            "height": null,
            "justify_content": null,
            "justify_items": null,
            "left": null,
            "margin": null,
            "max_height": null,
            "max_width": null,
            "min_height": null,
            "min_width": null,
            "object_fit": null,
            "object_position": null,
            "order": null,
            "overflow": null,
            "overflow_x": null,
            "overflow_y": null,
            "padding": null,
            "right": null,
            "top": null,
            "visibility": null,
            "width": null
          }
        },
        "f7da2251cc5d4c65a326266c4441d4b8": {
          "model_module": "@jupyter-widgets/controls",
          "model_name": "DescriptionStyleModel",
          "model_module_version": "1.5.0",
          "state": {
            "_model_module": "@jupyter-widgets/controls",
            "_model_module_version": "1.5.0",
            "_model_name": "DescriptionStyleModel",
            "_view_count": null,
            "_view_module": "@jupyter-widgets/base",
            "_view_module_version": "1.2.0",
            "_view_name": "StyleView",
            "description_width": ""
          }
        },
        "ac97254198c9418fb7157c11e427e8ee": {
          "model_module": "@jupyter-widgets/base",
          "model_name": "LayoutModel",
          "model_module_version": "1.2.0",
          "state": {
            "_model_module": "@jupyter-widgets/base",
            "_model_module_version": "1.2.0",
            "_model_name": "LayoutModel",
            "_view_count": null,
            "_view_module": "@jupyter-widgets/base",
            "_view_module_version": "1.2.0",
            "_view_name": "LayoutView",
            "align_content": null,
            "align_items": null,
            "align_self": null,
            "border": null,
            "bottom": null,
            "display": null,
            "flex": null,
            "flex_flow": null,
            "grid_area": null,
            "grid_auto_columns": null,
            "grid_auto_flow": null,
            "grid_auto_rows": null,
            "grid_column": null,
            "grid_gap": null,
            "grid_row": null,
            "grid_template_areas": null,
            "grid_template_columns": null,
            "grid_template_rows": null,
            "height": null,
            "justify_content": null,
            "justify_items": null,
            "left": null,
            "margin": null,
            "max_height": null,
            "max_width": null,
            "min_height": null,
            "min_width": null,
            "object_fit": null,
            "object_position": null,
            "order": null,
            "overflow": null,
            "overflow_x": null,
            "overflow_y": null,
            "padding": null,
            "right": null,
            "top": null,
            "visibility": null,
            "width": null
          }
        },
        "303325981b734fd4bdd3c2ae83e10a4f": {
          "model_module": "@jupyter-widgets/controls",
          "model_name": "ProgressStyleModel",
          "model_module_version": "1.5.0",
          "state": {
            "_model_module": "@jupyter-widgets/controls",
            "_model_module_version": "1.5.0",
            "_model_name": "ProgressStyleModel",
            "_view_count": null,
            "_view_module": "@jupyter-widgets/base",
            "_view_module_version": "1.2.0",
            "_view_name": "StyleView",
            "bar_color": null,
            "description_width": ""
          }
        },
        "696f4183bc23451ba45ceff8571dbccb": {
          "model_module": "@jupyter-widgets/base",
          "model_name": "LayoutModel",
          "model_module_version": "1.2.0",
          "state": {
            "_model_module": "@jupyter-widgets/base",
            "_model_module_version": "1.2.0",
            "_model_name": "LayoutModel",
            "_view_count": null,
            "_view_module": "@jupyter-widgets/base",
            "_view_module_version": "1.2.0",
            "_view_name": "LayoutView",
            "align_content": null,
            "align_items": null,
            "align_self": null,
            "border": null,
            "bottom": null,
            "display": null,
            "flex": null,
            "flex_flow": null,
            "grid_area": null,
            "grid_auto_columns": null,
            "grid_auto_flow": null,
            "grid_auto_rows": null,
            "grid_column": null,
            "grid_gap": null,
            "grid_row": null,
            "grid_template_areas": null,
            "grid_template_columns": null,
            "grid_template_rows": null,
            "height": null,
            "justify_content": null,
            "justify_items": null,
            "left": null,
            "margin": null,
            "max_height": null,
            "max_width": null,
            "min_height": null,
            "min_width": null,
            "object_fit": null,
            "object_position": null,
            "order": null,
            "overflow": null,
            "overflow_x": null,
            "overflow_y": null,
            "padding": null,
            "right": null,
            "top": null,
            "visibility": null,
            "width": null
          }
        },
        "b692c6b4c7fa4f17a6c053c3027d4778": {
          "model_module": "@jupyter-widgets/controls",
          "model_name": "DescriptionStyleModel",
          "model_module_version": "1.5.0",
          "state": {
            "_model_module": "@jupyter-widgets/controls",
            "_model_module_version": "1.5.0",
            "_model_name": "DescriptionStyleModel",
            "_view_count": null,
            "_view_module": "@jupyter-widgets/base",
            "_view_module_version": "1.2.0",
            "_view_name": "StyleView",
            "description_width": ""
          }
        },
        "e3d7950570a34b88b04867d7865d6783": {
          "model_module": "@jupyter-widgets/controls",
          "model_name": "HBoxModel",
          "model_module_version": "1.5.0",
          "state": {
            "_dom_classes": [],
            "_model_module": "@jupyter-widgets/controls",
            "_model_module_version": "1.5.0",
            "_model_name": "HBoxModel",
            "_view_count": null,
            "_view_module": "@jupyter-widgets/controls",
            "_view_module_version": "1.5.0",
            "_view_name": "HBoxView",
            "box_style": "",
            "children": [
              "IPY_MODEL_1332b4a532784f678c67f02e6753c057",
              "IPY_MODEL_3948d24dcedd4cfba9b583fa192a5314",
              "IPY_MODEL_09bdd51c57fa44e586e4857fc86353c6"
            ],
            "layout": "IPY_MODEL_51220c66439b44b8b05b87a1107ace80"
          }
        },
        "1332b4a532784f678c67f02e6753c057": {
          "model_module": "@jupyter-widgets/controls",
          "model_name": "HTMLModel",
          "model_module_version": "1.5.0",
          "state": {
            "_dom_classes": [],
            "_model_module": "@jupyter-widgets/controls",
            "_model_module_version": "1.5.0",
            "_model_name": "HTMLModel",
            "_view_count": null,
            "_view_module": "@jupyter-widgets/controls",
            "_view_module_version": "1.5.0",
            "_view_name": "HTMLView",
            "description": "",
            "description_tooltip": null,
            "layout": "IPY_MODEL_70720ec5d5134f548e1b0ce4e57f8cbe",
            "placeholder": "​",
            "style": "IPY_MODEL_1eeb3042ac374445ad14a852e03e933b",
            "value": "special_tokens_map.json: 100%"
          }
        },
        "3948d24dcedd4cfba9b583fa192a5314": {
          "model_module": "@jupyter-widgets/controls",
          "model_name": "FloatProgressModel",
          "model_module_version": "1.5.0",
          "state": {
            "_dom_classes": [],
            "_model_module": "@jupyter-widgets/controls",
            "_model_module_version": "1.5.0",
            "_model_name": "FloatProgressModel",
            "_view_count": null,
            "_view_module": "@jupyter-widgets/controls",
            "_view_module_version": "1.5.0",
            "_view_name": "ProgressView",
            "bar_style": "success",
            "description": "",
            "description_tooltip": null,
            "layout": "IPY_MODEL_bb01b5f3497342d0900147b9c7c75bc6",
            "max": 150,
            "min": 0,
            "orientation": "horizontal",
            "style": "IPY_MODEL_b0f5fca8482e4a00ad31728a944b7089",
            "value": 150
          }
        },
        "09bdd51c57fa44e586e4857fc86353c6": {
          "model_module": "@jupyter-widgets/controls",
          "model_name": "HTMLModel",
          "model_module_version": "1.5.0",
          "state": {
            "_dom_classes": [],
            "_model_module": "@jupyter-widgets/controls",
            "_model_module_version": "1.5.0",
            "_model_name": "HTMLModel",
            "_view_count": null,
            "_view_module": "@jupyter-widgets/controls",
            "_view_module_version": "1.5.0",
            "_view_name": "HTMLView",
            "description": "",
            "description_tooltip": null,
            "layout": "IPY_MODEL_74d8f6348e1d4546bfeab07414a5b89d",
            "placeholder": "​",
            "style": "IPY_MODEL_489d51a5b3bf4c0f80e5313d3720dbd9",
            "value": " 150/150 [00:00&lt;00:00, 12.6kB/s]"
          }
        },
        "51220c66439b44b8b05b87a1107ace80": {
          "model_module": "@jupyter-widgets/base",
          "model_name": "LayoutModel",
          "model_module_version": "1.2.0",
          "state": {
            "_model_module": "@jupyter-widgets/base",
            "_model_module_version": "1.2.0",
            "_model_name": "LayoutModel",
            "_view_count": null,
            "_view_module": "@jupyter-widgets/base",
            "_view_module_version": "1.2.0",
            "_view_name": "LayoutView",
            "align_content": null,
            "align_items": null,
            "align_self": null,
            "border": null,
            "bottom": null,
            "display": null,
            "flex": null,
            "flex_flow": null,
            "grid_area": null,
            "grid_auto_columns": null,
            "grid_auto_flow": null,
            "grid_auto_rows": null,
            "grid_column": null,
            "grid_gap": null,
            "grid_row": null,
            "grid_template_areas": null,
            "grid_template_columns": null,
            "grid_template_rows": null,
            "height": null,
            "justify_content": null,
            "justify_items": null,
            "left": null,
            "margin": null,
            "max_height": null,
            "max_width": null,
            "min_height": null,
            "min_width": null,
            "object_fit": null,
            "object_position": null,
            "order": null,
            "overflow": null,
            "overflow_x": null,
            "overflow_y": null,
            "padding": null,
            "right": null,
            "top": null,
            "visibility": null,
            "width": null
          }
        },
        "70720ec5d5134f548e1b0ce4e57f8cbe": {
          "model_module": "@jupyter-widgets/base",
          "model_name": "LayoutModel",
          "model_module_version": "1.2.0",
          "state": {
            "_model_module": "@jupyter-widgets/base",
            "_model_module_version": "1.2.0",
            "_model_name": "LayoutModel",
            "_view_count": null,
            "_view_module": "@jupyter-widgets/base",
            "_view_module_version": "1.2.0",
            "_view_name": "LayoutView",
            "align_content": null,
            "align_items": null,
            "align_self": null,
            "border": null,
            "bottom": null,
            "display": null,
            "flex": null,
            "flex_flow": null,
            "grid_area": null,
            "grid_auto_columns": null,
            "grid_auto_flow": null,
            "grid_auto_rows": null,
            "grid_column": null,
            "grid_gap": null,
            "grid_row": null,
            "grid_template_areas": null,
            "grid_template_columns": null,
            "grid_template_rows": null,
            "height": null,
            "justify_content": null,
            "justify_items": null,
            "left": null,
            "margin": null,
            "max_height": null,
            "max_width": null,
            "min_height": null,
            "min_width": null,
            "object_fit": null,
            "object_position": null,
            "order": null,
            "overflow": null,
            "overflow_x": null,
            "overflow_y": null,
            "padding": null,
            "right": null,
            "top": null,
            "visibility": null,
            "width": null
          }
        },
        "1eeb3042ac374445ad14a852e03e933b": {
          "model_module": "@jupyter-widgets/controls",
          "model_name": "DescriptionStyleModel",
          "model_module_version": "1.5.0",
          "state": {
            "_model_module": "@jupyter-widgets/controls",
            "_model_module_version": "1.5.0",
            "_model_name": "DescriptionStyleModel",
            "_view_count": null,
            "_view_module": "@jupyter-widgets/base",
            "_view_module_version": "1.2.0",
            "_view_name": "StyleView",
            "description_width": ""
          }
        },
        "bb01b5f3497342d0900147b9c7c75bc6": {
          "model_module": "@jupyter-widgets/base",
          "model_name": "LayoutModel",
          "model_module_version": "1.2.0",
          "state": {
            "_model_module": "@jupyter-widgets/base",
            "_model_module_version": "1.2.0",
            "_model_name": "LayoutModel",
            "_view_count": null,
            "_view_module": "@jupyter-widgets/base",
            "_view_module_version": "1.2.0",
            "_view_name": "LayoutView",
            "align_content": null,
            "align_items": null,
            "align_self": null,
            "border": null,
            "bottom": null,
            "display": null,
            "flex": null,
            "flex_flow": null,
            "grid_area": null,
            "grid_auto_columns": null,
            "grid_auto_flow": null,
            "grid_auto_rows": null,
            "grid_column": null,
            "grid_gap": null,
            "grid_row": null,
            "grid_template_areas": null,
            "grid_template_columns": null,
            "grid_template_rows": null,
            "height": null,
            "justify_content": null,
            "justify_items": null,
            "left": null,
            "margin": null,
            "max_height": null,
            "max_width": null,
            "min_height": null,
            "min_width": null,
            "object_fit": null,
            "object_position": null,
            "order": null,
            "overflow": null,
            "overflow_x": null,
            "overflow_y": null,
            "padding": null,
            "right": null,
            "top": null,
            "visibility": null,
            "width": null
          }
        },
        "b0f5fca8482e4a00ad31728a944b7089": {
          "model_module": "@jupyter-widgets/controls",
          "model_name": "ProgressStyleModel",
          "model_module_version": "1.5.0",
          "state": {
            "_model_module": "@jupyter-widgets/controls",
            "_model_module_version": "1.5.0",
            "_model_name": "ProgressStyleModel",
            "_view_count": null,
            "_view_module": "@jupyter-widgets/base",
            "_view_module_version": "1.2.0",
            "_view_name": "StyleView",
            "bar_color": null,
            "description_width": ""
          }
        },
        "74d8f6348e1d4546bfeab07414a5b89d": {
          "model_module": "@jupyter-widgets/base",
          "model_name": "LayoutModel",
          "model_module_version": "1.2.0",
          "state": {
            "_model_module": "@jupyter-widgets/base",
            "_model_module_version": "1.2.0",
            "_model_name": "LayoutModel",
            "_view_count": null,
            "_view_module": "@jupyter-widgets/base",
            "_view_module_version": "1.2.0",
            "_view_name": "LayoutView",
            "align_content": null,
            "align_items": null,
            "align_self": null,
            "border": null,
            "bottom": null,
            "display": null,
            "flex": null,
            "flex_flow": null,
            "grid_area": null,
            "grid_auto_columns": null,
            "grid_auto_flow": null,
            "grid_auto_rows": null,
            "grid_column": null,
            "grid_gap": null,
            "grid_row": null,
            "grid_template_areas": null,
            "grid_template_columns": null,
            "grid_template_rows": null,
            "height": null,
            "justify_content": null,
            "justify_items": null,
            "left": null,
            "margin": null,
            "max_height": null,
            "max_width": null,
            "min_height": null,
            "min_width": null,
            "object_fit": null,
            "object_position": null,
            "order": null,
            "overflow": null,
            "overflow_x": null,
            "overflow_y": null,
            "padding": null,
            "right": null,
            "top": null,
            "visibility": null,
            "width": null
          }
        },
        "489d51a5b3bf4c0f80e5313d3720dbd9": {
          "model_module": "@jupyter-widgets/controls",
          "model_name": "DescriptionStyleModel",
          "model_module_version": "1.5.0",
          "state": {
            "_model_module": "@jupyter-widgets/controls",
            "_model_module_version": "1.5.0",
            "_model_name": "DescriptionStyleModel",
            "_view_count": null,
            "_view_module": "@jupyter-widgets/base",
            "_view_module_version": "1.2.0",
            "_view_name": "StyleView",
            "description_width": ""
          }
        }
      }
    }
  },
  "cells": [
    {
      "cell_type": "markdown",
      "source": [
        "Data preprocessing\n"
      ],
      "metadata": {
        "id": "Ql0EiWqmNJ6P"
      }
    },
    {
      "cell_type": "code",
      "source": [
        "import pandas as pd\n",
        "import numpy as np\n",
        "from sklearn.feature_extraction.text import TfidfVectorizer\n",
        "from sklearn.model_selection import train_test_split\n",
        "\n",
        "# --------------------\n",
        "# Step 1: Load the dataset with proper encoding and error handling.\n",
        "# --------------------\n",
        "df = pd.read_csv(\n",
        "    \"training.1600000.processed.noemoticon.csv\",\n",
        "    encoding=\"ISO-8859-1\",  # Fix for UnicodeDecodeError\n",
        "    header=None,\n",
        "    quoting=3,\n",
        "    on_bad_lines='skip'\n",
        ")\n",
        "\n",
        "# Keep only the first six columns and limit to the first 500 rows.\n",
        "df = df.iloc[:500, :6]  # This selects only the first 500 rows.\n",
        "\n",
        "# --------------------\n",
        "# Step 2: Clean and filter the target column (column 0).\n",
        "# --------------------\n",
        "# The target values are stored with extra quotes (e.g. '\"0\"', '\"4\"')\n",
        "# Remove the double quotes.\n",
        "df[0] = df[0].str.replace('\"', '', regex=False)\n",
        "\n",
        "# Convert the target values from strings to numeric.\n",
        "df[0] = pd.to_numeric(df[0], errors='coerce')\n",
        "\n",
        "# Filter to keep only rows where the target (column 0) is either 0 or 4.\n",
        "df = df[df[0].isin([0, 4])].copy()\n",
        "\n",
        "# --------------------\n",
        "# Step 3: Clean the text data (column 5).\n",
        "# --------------------\n",
        "# Convert text to lowercase.\n",
        "df[5] = df[5].str.lower()\n",
        "\n",
        "# Remove URLs and Twitter mentions.\n",
        "df[5] = df[5].str.replace(r\"http\\S+|www\\S+|@\\S+\", \"\", regex=True)\n",
        "\n",
        "# Replace any non-letter characters with a space (this helps to preserve word boundaries).\n",
        "df[5] = df[5].str.replace(r\"[^a-zA-Z\\s]\", \" \", regex=True)\n",
        "\n",
        "# Collapse multiple spaces into one.\n",
        "df[5] = df[5].str.replace(r\"\\s+\", \" \", regex=True)\n",
        "\n",
        "# Remove leading and trailing whitespace.\n",
        "df[5] = df[5].str.strip()\n",
        "\n",
        "# Remove any rows where the text becomes empty after cleaning.\n",
        "df = df[df[5] != \"\"]\n",
        "\n",
        "# Optional: Check a few cleaned text samples.\n",
        "print(\"Sample cleaned text:\")\n",
        "print(df[5].head())\n",
        "\n",
        "# --------------------\n",
        "# Step 4: Vectorize the text using TF-IDF.\n",
        "# --------------------\n",
        "# Use a token pattern that includes single-character tokens if needed.\n",
        "vectorizer = TfidfVectorizer(token_pattern=r\"(?u)\\b\\w+\\b\", stop_words=None)\n",
        "X_tfidf = vectorizer.fit_transform(df[5])\n",
        "\n",
        "# --------------------\n",
        "# Step 5: Convert to NumPy arrays.\n",
        "# --------------------\n",
        "# The TF-IDF data as a NumPy array:\n",
        "X = X_tfidf.toarray()\n",
        "# The target labels from column 0:\n",
        "y = df[0].values\n",
        "\n",
        "# --------------------\n",
        "# Step 6: Split into training and testing sets.\n",
        "# --------------------\n",
        "X_train, X_test, y_train, y_test = train_test_split(\n",
        "    X, y, test_size=0.2, random_state=1\n",
        ")\n",
        "\n",
        "# Confirm the shapes of the split arrays.\n",
        "print(\"X_train shape:\", X_train.shape)\n",
        "print(\"X_test shape:\", X_test.shape)\n",
        "print(\"y_train shape:\", y_train.shape)\n",
        "print(\"y_test shape:\", y_test.shape)\n"
      ],
      "metadata": {
        "colab": {
          "base_uri": "https://localhost:8080/"
        },
        "id": "O1x6IjO6LJfX",
        "outputId": "031742cf-25e2-4ab3-bc51-c0762f693545"
      },
      "execution_count": 3,
      "outputs": [
        {
          "output_type": "stream",
          "name": "stdout",
          "text": [
            "Sample cleaned text:\n",
            "0                                                 awww\n",
            "1    is upset that he can t update his facebook by ...\n",
            "2    i dived many times for the ball managed to sav...\n",
            "3       my whole body feels itchy and like its on fire\n",
            "4                                                   no\n",
            "Name: 5, dtype: object\n",
            "X_train shape: (396, 1649)\n",
            "X_test shape: (99, 1649)\n",
            "y_train shape: (396,)\n",
            "y_test shape: (99,)\n"
          ]
        }
      ]
    },
    {
      "cell_type": "code",
      "source": [
        "df.head()"
      ],
      "metadata": {
        "colab": {
          "base_uri": "https://localhost:8080/",
          "height": 206
        },
        "id": "PqFKQBWbMDfe",
        "outputId": "b5a4c012-a7ff-4628-9213-c04d61260d86"
      },
      "execution_count": 4,
      "outputs": [
        {
          "output_type": "execute_result",
          "data": {
            "text/plain": [
              "   0             1                               2           3  \\\n",
              "0  0  \"1467810369\"  \"Mon Apr 06 22:19:45 PDT 2009\"  \"NO_QUERY\"   \n",
              "1  0  \"1467810672\"  \"Mon Apr 06 22:19:49 PDT 2009\"  \"NO_QUERY\"   \n",
              "2  0  \"1467810917\"  \"Mon Apr 06 22:19:53 PDT 2009\"  \"NO_QUERY\"   \n",
              "3  0  \"1467811184\"  \"Mon Apr 06 22:19:57 PDT 2009\"  \"NO_QUERY\"   \n",
              "4  0  \"1467811193\"  \"Mon Apr 06 22:19:57 PDT 2009\"  \"NO_QUERY\"   \n",
              "\n",
              "                   4                                                  5  \n",
              "0  \"_TheSpecialOne_\"                                               awww  \n",
              "1    \"scotthamilton\"  is upset that he can t update his facebook by ...  \n",
              "2         \"mattycus\"  i dived many times for the ball managed to sav...  \n",
              "3          \"ElleCTF\"     my whole body feels itchy and like its on fire  \n",
              "4           \"Karoli\"                                                 no  "
            ],
            "text/html": [
              "\n",
              "  <div id=\"df-39a2ad31-fb88-4b1a-9685-f6e66a6bd419\" class=\"colab-df-container\">\n",
              "    <div>\n",
              "<style scoped>\n",
              "    .dataframe tbody tr th:only-of-type {\n",
              "        vertical-align: middle;\n",
              "    }\n",
              "\n",
              "    .dataframe tbody tr th {\n",
              "        vertical-align: top;\n",
              "    }\n",
              "\n",
              "    .dataframe thead th {\n",
              "        text-align: right;\n",
              "    }\n",
              "</style>\n",
              "<table border=\"1\" class=\"dataframe\">\n",
              "  <thead>\n",
              "    <tr style=\"text-align: right;\">\n",
              "      <th></th>\n",
              "      <th>0</th>\n",
              "      <th>1</th>\n",
              "      <th>2</th>\n",
              "      <th>3</th>\n",
              "      <th>4</th>\n",
              "      <th>5</th>\n",
              "    </tr>\n",
              "  </thead>\n",
              "  <tbody>\n",
              "    <tr>\n",
              "      <th>0</th>\n",
              "      <td>0</td>\n",
              "      <td>\"1467810369\"</td>\n",
              "      <td>\"Mon Apr 06 22:19:45 PDT 2009\"</td>\n",
              "      <td>\"NO_QUERY\"</td>\n",
              "      <td>\"_TheSpecialOne_\"</td>\n",
              "      <td>awww</td>\n",
              "    </tr>\n",
              "    <tr>\n",
              "      <th>1</th>\n",
              "      <td>0</td>\n",
              "      <td>\"1467810672\"</td>\n",
              "      <td>\"Mon Apr 06 22:19:49 PDT 2009\"</td>\n",
              "      <td>\"NO_QUERY\"</td>\n",
              "      <td>\"scotthamilton\"</td>\n",
              "      <td>is upset that he can t update his facebook by ...</td>\n",
              "    </tr>\n",
              "    <tr>\n",
              "      <th>2</th>\n",
              "      <td>0</td>\n",
              "      <td>\"1467810917\"</td>\n",
              "      <td>\"Mon Apr 06 22:19:53 PDT 2009\"</td>\n",
              "      <td>\"NO_QUERY\"</td>\n",
              "      <td>\"mattycus\"</td>\n",
              "      <td>i dived many times for the ball managed to sav...</td>\n",
              "    </tr>\n",
              "    <tr>\n",
              "      <th>3</th>\n",
              "      <td>0</td>\n",
              "      <td>\"1467811184\"</td>\n",
              "      <td>\"Mon Apr 06 22:19:57 PDT 2009\"</td>\n",
              "      <td>\"NO_QUERY\"</td>\n",
              "      <td>\"ElleCTF\"</td>\n",
              "      <td>my whole body feels itchy and like its on fire</td>\n",
              "    </tr>\n",
              "    <tr>\n",
              "      <th>4</th>\n",
              "      <td>0</td>\n",
              "      <td>\"1467811193\"</td>\n",
              "      <td>\"Mon Apr 06 22:19:57 PDT 2009\"</td>\n",
              "      <td>\"NO_QUERY\"</td>\n",
              "      <td>\"Karoli\"</td>\n",
              "      <td>no</td>\n",
              "    </tr>\n",
              "  </tbody>\n",
              "</table>\n",
              "</div>\n",
              "    <div class=\"colab-df-buttons\">\n",
              "\n",
              "  <div class=\"colab-df-container\">\n",
              "    <button class=\"colab-df-convert\" onclick=\"convertToInteractive('df-39a2ad31-fb88-4b1a-9685-f6e66a6bd419')\"\n",
              "            title=\"Convert this dataframe to an interactive table.\"\n",
              "            style=\"display:none;\">\n",
              "\n",
              "  <svg xmlns=\"http://www.w3.org/2000/svg\" height=\"24px\" viewBox=\"0 -960 960 960\">\n",
              "    <path d=\"M120-120v-720h720v720H120Zm60-500h600v-160H180v160Zm220 220h160v-160H400v160Zm0 220h160v-160H400v160ZM180-400h160v-160H180v160Zm440 0h160v-160H620v160ZM180-180h160v-160H180v160Zm440 0h160v-160H620v160Z\"/>\n",
              "  </svg>\n",
              "    </button>\n",
              "\n",
              "  <style>\n",
              "    .colab-df-container {\n",
              "      display:flex;\n",
              "      gap: 12px;\n",
              "    }\n",
              "\n",
              "    .colab-df-convert {\n",
              "      background-color: #E8F0FE;\n",
              "      border: none;\n",
              "      border-radius: 50%;\n",
              "      cursor: pointer;\n",
              "      display: none;\n",
              "      fill: #1967D2;\n",
              "      height: 32px;\n",
              "      padding: 0 0 0 0;\n",
              "      width: 32px;\n",
              "    }\n",
              "\n",
              "    .colab-df-convert:hover {\n",
              "      background-color: #E2EBFA;\n",
              "      box-shadow: 0px 1px 2px rgba(60, 64, 67, 0.3), 0px 1px 3px 1px rgba(60, 64, 67, 0.15);\n",
              "      fill: #174EA6;\n",
              "    }\n",
              "\n",
              "    .colab-df-buttons div {\n",
              "      margin-bottom: 4px;\n",
              "    }\n",
              "\n",
              "    [theme=dark] .colab-df-convert {\n",
              "      background-color: #3B4455;\n",
              "      fill: #D2E3FC;\n",
              "    }\n",
              "\n",
              "    [theme=dark] .colab-df-convert:hover {\n",
              "      background-color: #434B5C;\n",
              "      box-shadow: 0px 1px 3px 1px rgba(0, 0, 0, 0.15);\n",
              "      filter: drop-shadow(0px 1px 2px rgba(0, 0, 0, 0.3));\n",
              "      fill: #FFFFFF;\n",
              "    }\n",
              "  </style>\n",
              "\n",
              "    <script>\n",
              "      const buttonEl =\n",
              "        document.querySelector('#df-39a2ad31-fb88-4b1a-9685-f6e66a6bd419 button.colab-df-convert');\n",
              "      buttonEl.style.display =\n",
              "        google.colab.kernel.accessAllowed ? 'block' : 'none';\n",
              "\n",
              "      async function convertToInteractive(key) {\n",
              "        const element = document.querySelector('#df-39a2ad31-fb88-4b1a-9685-f6e66a6bd419');\n",
              "        const dataTable =\n",
              "          await google.colab.kernel.invokeFunction('convertToInteractive',\n",
              "                                                    [key], {});\n",
              "        if (!dataTable) return;\n",
              "\n",
              "        const docLinkHtml = 'Like what you see? Visit the ' +\n",
              "          '<a target=\"_blank\" href=https://colab.research.google.com/notebooks/data_table.ipynb>data table notebook</a>'\n",
              "          + ' to learn more about interactive tables.';\n",
              "        element.innerHTML = '';\n",
              "        dataTable['output_type'] = 'display_data';\n",
              "        await google.colab.output.renderOutput(dataTable, element);\n",
              "        const docLink = document.createElement('div');\n",
              "        docLink.innerHTML = docLinkHtml;\n",
              "        element.appendChild(docLink);\n",
              "      }\n",
              "    </script>\n",
              "  </div>\n",
              "\n",
              "\n",
              "    <div id=\"df-a512f2ed-aa81-41bd-b8e9-11f5d69a814c\">\n",
              "      <button class=\"colab-df-quickchart\" onclick=\"quickchart('df-a512f2ed-aa81-41bd-b8e9-11f5d69a814c')\"\n",
              "                title=\"Suggest charts\"\n",
              "                style=\"display:none;\">\n",
              "\n",
              "<svg xmlns=\"http://www.w3.org/2000/svg\" height=\"24px\"viewBox=\"0 0 24 24\"\n",
              "     width=\"24px\">\n",
              "    <g>\n",
              "        <path d=\"M19 3H5c-1.1 0-2 .9-2 2v14c0 1.1.9 2 2 2h14c1.1 0 2-.9 2-2V5c0-1.1-.9-2-2-2zM9 17H7v-7h2v7zm4 0h-2V7h2v10zm4 0h-2v-4h2v4z\"/>\n",
              "    </g>\n",
              "</svg>\n",
              "      </button>\n",
              "\n",
              "<style>\n",
              "  .colab-df-quickchart {\n",
              "      --bg-color: #E8F0FE;\n",
              "      --fill-color: #1967D2;\n",
              "      --hover-bg-color: #E2EBFA;\n",
              "      --hover-fill-color: #174EA6;\n",
              "      --disabled-fill-color: #AAA;\n",
              "      --disabled-bg-color: #DDD;\n",
              "  }\n",
              "\n",
              "  [theme=dark] .colab-df-quickchart {\n",
              "      --bg-color: #3B4455;\n",
              "      --fill-color: #D2E3FC;\n",
              "      --hover-bg-color: #434B5C;\n",
              "      --hover-fill-color: #FFFFFF;\n",
              "      --disabled-bg-color: #3B4455;\n",
              "      --disabled-fill-color: #666;\n",
              "  }\n",
              "\n",
              "  .colab-df-quickchart {\n",
              "    background-color: var(--bg-color);\n",
              "    border: none;\n",
              "    border-radius: 50%;\n",
              "    cursor: pointer;\n",
              "    display: none;\n",
              "    fill: var(--fill-color);\n",
              "    height: 32px;\n",
              "    padding: 0;\n",
              "    width: 32px;\n",
              "  }\n",
              "\n",
              "  .colab-df-quickchart:hover {\n",
              "    background-color: var(--hover-bg-color);\n",
              "    box-shadow: 0 1px 2px rgba(60, 64, 67, 0.3), 0 1px 3px 1px rgba(60, 64, 67, 0.15);\n",
              "    fill: var(--button-hover-fill-color);\n",
              "  }\n",
              "\n",
              "  .colab-df-quickchart-complete:disabled,\n",
              "  .colab-df-quickchart-complete:disabled:hover {\n",
              "    background-color: var(--disabled-bg-color);\n",
              "    fill: var(--disabled-fill-color);\n",
              "    box-shadow: none;\n",
              "  }\n",
              "\n",
              "  .colab-df-spinner {\n",
              "    border: 2px solid var(--fill-color);\n",
              "    border-color: transparent;\n",
              "    border-bottom-color: var(--fill-color);\n",
              "    animation:\n",
              "      spin 1s steps(1) infinite;\n",
              "  }\n",
              "\n",
              "  @keyframes spin {\n",
              "    0% {\n",
              "      border-color: transparent;\n",
              "      border-bottom-color: var(--fill-color);\n",
              "      border-left-color: var(--fill-color);\n",
              "    }\n",
              "    20% {\n",
              "      border-color: transparent;\n",
              "      border-left-color: var(--fill-color);\n",
              "      border-top-color: var(--fill-color);\n",
              "    }\n",
              "    30% {\n",
              "      border-color: transparent;\n",
              "      border-left-color: var(--fill-color);\n",
              "      border-top-color: var(--fill-color);\n",
              "      border-right-color: var(--fill-color);\n",
              "    }\n",
              "    40% {\n",
              "      border-color: transparent;\n",
              "      border-right-color: var(--fill-color);\n",
              "      border-top-color: var(--fill-color);\n",
              "    }\n",
              "    60% {\n",
              "      border-color: transparent;\n",
              "      border-right-color: var(--fill-color);\n",
              "    }\n",
              "    80% {\n",
              "      border-color: transparent;\n",
              "      border-right-color: var(--fill-color);\n",
              "      border-bottom-color: var(--fill-color);\n",
              "    }\n",
              "    90% {\n",
              "      border-color: transparent;\n",
              "      border-bottom-color: var(--fill-color);\n",
              "    }\n",
              "  }\n",
              "</style>\n",
              "\n",
              "      <script>\n",
              "        async function quickchart(key) {\n",
              "          const quickchartButtonEl =\n",
              "            document.querySelector('#' + key + ' button');\n",
              "          quickchartButtonEl.disabled = true;  // To prevent multiple clicks.\n",
              "          quickchartButtonEl.classList.add('colab-df-spinner');\n",
              "          try {\n",
              "            const charts = await google.colab.kernel.invokeFunction(\n",
              "                'suggestCharts', [key], {});\n",
              "          } catch (error) {\n",
              "            console.error('Error during call to suggestCharts:', error);\n",
              "          }\n",
              "          quickchartButtonEl.classList.remove('colab-df-spinner');\n",
              "          quickchartButtonEl.classList.add('colab-df-quickchart-complete');\n",
              "        }\n",
              "        (() => {\n",
              "          let quickchartButtonEl =\n",
              "            document.querySelector('#df-a512f2ed-aa81-41bd-b8e9-11f5d69a814c button');\n",
              "          quickchartButtonEl.style.display =\n",
              "            google.colab.kernel.accessAllowed ? 'block' : 'none';\n",
              "        })();\n",
              "      </script>\n",
              "    </div>\n",
              "\n",
              "    </div>\n",
              "  </div>\n"
            ],
            "application/vnd.google.colaboratory.intrinsic+json": {
              "type": "dataframe",
              "variable_name": "df",
              "summary": "{\n  \"name\": \"df\",\n  \"rows\": 495,\n  \"fields\": [\n    {\n      \"column\": 0,\n      \"properties\": {\n        \"dtype\": \"number\",\n        \"std\": 0,\n        \"min\": 0,\n        \"max\": 0,\n        \"num_unique_values\": 1,\n        \"samples\": [\n          0\n        ],\n        \"semantic_type\": \"\",\n        \"description\": \"\"\n      }\n    },\n    {\n      \"column\": 1,\n      \"properties\": {\n        \"dtype\": \"string\",\n        \"num_unique_values\": 495,\n        \"samples\": [\n          \"\\\"1467934481\\\"\"\n        ],\n        \"semantic_type\": \"\",\n        \"description\": \"\"\n      }\n    },\n    {\n      \"column\": 2,\n      \"properties\": {\n        \"dtype\": \"string\",\n        \"num_unique_values\": 438,\n        \"samples\": [\n          \"\\\"Mon Apr 06 22:51:17 PDT 2009\\\"\"\n        ],\n        \"semantic_type\": \"\",\n        \"description\": \"\"\n      }\n    },\n    {\n      \"column\": 3,\n      \"properties\": {\n        \"dtype\": \"category\",\n        \"num_unique_values\": 1,\n        \"samples\": [\n          \"\\\"NO_QUERY\\\"\"\n        ],\n        \"semantic_type\": \"\",\n        \"description\": \"\"\n      }\n    },\n    {\n      \"column\": 4,\n      \"properties\": {\n        \"dtype\": \"string\",\n        \"num_unique_values\": 477,\n        \"samples\": [\n          \"\\\"GillianMe\\\"\"\n        ],\n        \"semantic_type\": \"\",\n        \"description\": \"\"\n      }\n    },\n    {\n      \"column\": 5,\n      \"properties\": {\n        \"dtype\": \"string\",\n        \"num_unique_values\": 494,\n        \"samples\": [\n          \"yeah i know it was horrible ugh saddening\"\n        ],\n        \"semantic_type\": \"\",\n        \"description\": \"\"\n      }\n    }\n  ]\n}"
            }
          },
          "metadata": {},
          "execution_count": 4
        }
      ]
    },
    {
      "cell_type": "code",
      "source": [
        "print(X)"
      ],
      "metadata": {
        "colab": {
          "base_uri": "https://localhost:8080/"
        },
        "id": "K0UPmKM3MGm8",
        "outputId": "3b306dc3-dfb6-4869-ba9a-f0cf1399528c"
      },
      "execution_count": 5,
      "outputs": [
        {
          "output_type": "stream",
          "name": "stdout",
          "text": [
            "[[0.         0.         0.         ... 0.         0.         0.        ]\n",
            " [0.12020822 0.         0.         ... 0.         0.         0.        ]\n",
            " [0.         0.         0.         ... 0.         0.         0.        ]\n",
            " ...\n",
            " [0.         0.         0.         ... 0.         0.         0.        ]\n",
            " [0.         0.         0.         ... 0.         0.         0.        ]\n",
            " [0.         0.         0.         ... 0.         0.         0.        ]]\n"
          ]
        }
      ]
    },
    {
      "cell_type": "code",
      "source": [
        "print(y)"
      ],
      "metadata": {
        "colab": {
          "base_uri": "https://localhost:8080/"
        },
        "id": "s4BL2v4VMUHz",
        "outputId": "a7a60285-ace4-44f9-be7f-7706f3f95d5e"
      },
      "execution_count": 6,
      "outputs": [
        {
          "output_type": "stream",
          "name": "stdout",
          "text": [
            "[0 0 0 0 0 0 0 0 0 0 0 0 0 0 0 0 0 0 0 0 0 0 0 0 0 0 0 0 0 0 0 0 0 0 0 0 0\n",
            " 0 0 0 0 0 0 0 0 0 0 0 0 0 0 0 0 0 0 0 0 0 0 0 0 0 0 0 0 0 0 0 0 0 0 0 0 0\n",
            " 0 0 0 0 0 0 0 0 0 0 0 0 0 0 0 0 0 0 0 0 0 0 0 0 0 0 0 0 0 0 0 0 0 0 0 0 0\n",
            " 0 0 0 0 0 0 0 0 0 0 0 0 0 0 0 0 0 0 0 0 0 0 0 0 0 0 0 0 0 0 0 0 0 0 0 0 0\n",
            " 0 0 0 0 0 0 0 0 0 0 0 0 0 0 0 0 0 0 0 0 0 0 0 0 0 0 0 0 0 0 0 0 0 0 0 0 0\n",
            " 0 0 0 0 0 0 0 0 0 0 0 0 0 0 0 0 0 0 0 0 0 0 0 0 0 0 0 0 0 0 0 0 0 0 0 0 0\n",
            " 0 0 0 0 0 0 0 0 0 0 0 0 0 0 0 0 0 0 0 0 0 0 0 0 0 0 0 0 0 0 0 0 0 0 0 0 0\n",
            " 0 0 0 0 0 0 0 0 0 0 0 0 0 0 0 0 0 0 0 0 0 0 0 0 0 0 0 0 0 0 0 0 0 0 0 0 0\n",
            " 0 0 0 0 0 0 0 0 0 0 0 0 0 0 0 0 0 0 0 0 0 0 0 0 0 0 0 0 0 0 0 0 0 0 0 0 0\n",
            " 0 0 0 0 0 0 0 0 0 0 0 0 0 0 0 0 0 0 0 0 0 0 0 0 0 0 0 0 0 0 0 0 0 0 0 0 0\n",
            " 0 0 0 0 0 0 0 0 0 0 0 0 0 0 0 0 0 0 0 0 0 0 0 0 0 0 0 0 0 0 0 0 0 0 0 0 0\n",
            " 0 0 0 0 0 0 0 0 0 0 0 0 0 0 0 0 0 0 0 0 0 0 0 0 0 0 0 0 0 0 0 0 0 0 0 0 0\n",
            " 0 0 0 0 0 0 0 0 0 0 0 0 0 0 0 0 0 0 0 0 0 0 0 0 0 0 0 0 0 0 0 0 0 0 0 0 0\n",
            " 0 0 0 0 0 0 0 0 0 0 0 0 0 0]\n"
          ]
        }
      ]
    },
    {
      "cell_type": "code",
      "source": [
        "print(X_train)\n",
        "print(X_train.shape)"
      ],
      "metadata": {
        "colab": {
          "base_uri": "https://localhost:8080/"
        },
        "id": "pBsokKXnMWeh",
        "outputId": "0a382798-8896-431a-ad76-2491e5cccd06"
      },
      "execution_count": 8,
      "outputs": [
        {
          "output_type": "stream",
          "name": "stdout",
          "text": [
            "[[0.15931001 0.         0.         ... 0.         0.         0.        ]\n",
            " [0.         0.         0.         ... 0.         0.         0.        ]\n",
            " [0.21218806 0.         0.         ... 0.         0.         0.        ]\n",
            " ...\n",
            " [0.         0.         0.         ... 0.         0.         0.        ]\n",
            " [0.         0.         0.         ... 0.         0.         0.        ]\n",
            " [0.         0.         0.         ... 0.         0.         0.        ]]\n",
            "(396, 1649)\n"
          ]
        }
      ]
    },
    {
      "cell_type": "code",
      "source": [
        "print(X_test)\n",
        "print(X_test.shape)"
      ],
      "metadata": {
        "colab": {
          "base_uri": "https://localhost:8080/"
        },
        "id": "bdhSpdu1MaCz",
        "outputId": "3719c263-db22-4532-cb2c-d1daa45c08e3"
      },
      "execution_count": 9,
      "outputs": [
        {
          "output_type": "stream",
          "name": "stdout",
          "text": [
            "[[0.         0.         0.         ... 0.         0.         0.        ]\n",
            " [0.         0.         0.         ... 0.         0.         0.        ]\n",
            " [0.21686136 0.         0.         ... 0.         0.         0.        ]\n",
            " ...\n",
            " [0.         0.         0.         ... 0.         0.         0.        ]\n",
            " [0.         0.         0.         ... 0.         0.         0.        ]\n",
            " [0.         0.         0.         ... 0.         0.         0.        ]]\n",
            "(99, 1649)\n"
          ]
        }
      ]
    },
    {
      "cell_type": "code",
      "source": [
        "print(X_tfidf)"
      ],
      "metadata": {
        "colab": {
          "base_uri": "https://localhost:8080/"
        },
        "id": "HJJxZyelMhzK",
        "outputId": "2a172846-b697-4708-ec36-8ea5fce2dd3c"
      },
      "execution_count": 10,
      "outputs": [
        {
          "output_type": "stream",
          "name": "stdout",
          "text": [
            "<Compressed Sparse Row sparse matrix of dtype 'float64'\n",
            "\twith 5342 stored elements and shape (495, 1649)>\n",
            "  Coords\tValues\n",
            "  (0, 101)\t1.0\n",
            "  (1, 720)\t0.11713036829426082\n",
            "  (1, 1508)\t0.2382050785131894\n",
            "  (1, 1389)\t0.13936803932685218\n",
            "  (1, 625)\t0.20464961732028372\n",
            "  (1, 217)\t0.17325860753794328\n",
            "  (1, 1359)\t0.1246921898298561\n",
            "  (1, 1505)\t0.2599449851413707\n",
            "  (1, 655)\t0.24770170465047575\n",
            "  (1, 458)\t0.2772009198109577\n",
            "  (1, 200)\t0.20464961732028372\n",
            "  (1, 1384)\t0.2772009198109577\n",
            "  (1, 724)\t0.12712475883595722\n",
            "  (1, 53)\t0.11813178794279164\n",
            "  (1, 879)\t0.23044576998088878\n",
            "  (1, 324)\t0.22388536809382437\n",
            "  (1, 80)\t0.22388536809382437\n",
            "  (1, 0)\t0.12020821787126171\n",
            "  (1, 1151)\t0.2772009198109577\n",
            "  (1, 1197)\t0.23044576998088878\n",
            "  (1, 1426)\t0.17920664819222556\n",
            "  (1, 44)\t0.24770170465047575\n",
            "  (1, 153)\t0.2772009198109577\n",
            "  (2, 693)\t0.08970239352967456\n",
            "  (2, 374)\t0.3230844258778583\n",
            "  :\t:\n",
            "  (492, 939)\t0.27772937273616266\n",
            "  (492, 209)\t0.27772937273616266\n",
            "  (493, 724)\t0.2432987011440054\n",
            "  (493, 53)\t0.11304371718568329\n",
            "  (493, 693)\t0.2209446970362857\n",
            "  (493, 1424)\t0.19371104332073133\n",
            "  (493, 1547)\t0.4100749922957796\n",
            "  (493, 1265)\t0.14127236752504882\n",
            "  (493, 385)\t0.1958351250360815\n",
            "  (493, 196)\t0.1393778243573505\n",
            "  (493, 569)\t0.1624004179640901\n",
            "  (493, 1174)\t0.16950101786441432\n",
            "  (493, 1568)\t0.19971666392844906\n",
            "  (493, 1275)\t0.22052020799830963\n",
            "  (493, 1583)\t0.19229155765894412\n",
            "  (493, 680)\t0.22052020799830963\n",
            "  (493, 766)\t0.24874885833767513\n",
            "  (493, 829)\t0.2142423700982782\n",
            "  (493, 763)\t0.24874885833767513\n",
            "  (493, 1276)\t0.23703290989280798\n",
            "  (493, 865)\t0.2652615602321735\n",
            "  (493, 606)\t0.2652615602321735\n",
            "  (494, 972)\t0.5395138562788357\n",
            "  (494, 95)\t0.5610228913546016\n",
            "  (494, 575)\t0.6278360568327233\n"
          ]
        }
      ]
    },
    {
      "cell_type": "code",
      "source": [
        "print(y_train)\n",
        "print(y_train.shape)"
      ],
      "metadata": {
        "colab": {
          "base_uri": "https://localhost:8080/"
        },
        "id": "NJYpeahJM7q7",
        "outputId": "dacf877a-39cf-46ab-f616-18a48bf6db47"
      },
      "execution_count": 11,
      "outputs": [
        {
          "output_type": "stream",
          "name": "stdout",
          "text": [
            "[0 0 0 0 0 0 0 0 0 0 0 0 0 0 0 0 0 0 0 0 0 0 0 0 0 0 0 0 0 0 0 0 0 0 0 0 0\n",
            " 0 0 0 0 0 0 0 0 0 0 0 0 0 0 0 0 0 0 0 0 0 0 0 0 0 0 0 0 0 0 0 0 0 0 0 0 0\n",
            " 0 0 0 0 0 0 0 0 0 0 0 0 0 0 0 0 0 0 0 0 0 0 0 0 0 0 0 0 0 0 0 0 0 0 0 0 0\n",
            " 0 0 0 0 0 0 0 0 0 0 0 0 0 0 0 0 0 0 0 0 0 0 0 0 0 0 0 0 0 0 0 0 0 0 0 0 0\n",
            " 0 0 0 0 0 0 0 0 0 0 0 0 0 0 0 0 0 0 0 0 0 0 0 0 0 0 0 0 0 0 0 0 0 0 0 0 0\n",
            " 0 0 0 0 0 0 0 0 0 0 0 0 0 0 0 0 0 0 0 0 0 0 0 0 0 0 0 0 0 0 0 0 0 0 0 0 0\n",
            " 0 0 0 0 0 0 0 0 0 0 0 0 0 0 0 0 0 0 0 0 0 0 0 0 0 0 0 0 0 0 0 0 0 0 0 0 0\n",
            " 0 0 0 0 0 0 0 0 0 0 0 0 0 0 0 0 0 0 0 0 0 0 0 0 0 0 0 0 0 0 0 0 0 0 0 0 0\n",
            " 0 0 0 0 0 0 0 0 0 0 0 0 0 0 0 0 0 0 0 0 0 0 0 0 0 0 0 0 0 0 0 0 0 0 0 0 0\n",
            " 0 0 0 0 0 0 0 0 0 0 0 0 0 0 0 0 0 0 0 0 0 0 0 0 0 0 0 0 0 0 0 0 0 0 0 0 0\n",
            " 0 0 0 0 0 0 0 0 0 0 0 0 0 0 0 0 0 0 0 0 0 0 0 0 0 0]\n",
            "(396,)\n"
          ]
        }
      ]
    },
    {
      "cell_type": "code",
      "source": [
        "print(y_test)\n",
        "print(y_test.shape)"
      ],
      "metadata": {
        "colab": {
          "base_uri": "https://localhost:8080/"
        },
        "id": "2FBPhpQPM-ym",
        "outputId": "a74d0c61-d355-4559-ef3a-129b0ddc440d"
      },
      "execution_count": 13,
      "outputs": [
        {
          "output_type": "stream",
          "name": "stdout",
          "text": [
            "[0 0 0 0 0 0 0 0 0 0 0 0 0 0 0 0 0 0 0 0 0 0 0 0 0 0 0 0 0 0 0 0 0 0 0 0 0\n",
            " 0 0 0 0 0 0 0 0 0 0 0 0 0 0 0 0 0 0 0 0 0 0 0 0 0 0 0 0 0 0 0 0 0 0 0 0 0\n",
            " 0 0 0 0 0 0 0 0 0 0 0 0 0 0 0 0 0 0 0 0 0 0 0 0 0]\n",
            "(99,)\n"
          ]
        }
      ]
    },
    {
      "cell_type": "markdown",
      "source": [
        "Quick EDA"
      ],
      "metadata": {
        "id": "ezkKR74sQu8K"
      }
    },
    {
      "cell_type": "code",
      "source": [
        "import matplotlib.pyplot as plt\n",
        "import seaborn as sns"
      ],
      "metadata": {
        "id": "BHRE0cp_NDWI"
      },
      "execution_count": 14,
      "outputs": []
    },
    {
      "cell_type": "markdown",
      "source": [
        "Distribution of Sentimet Labels"
      ],
      "metadata": {
        "id": "4cOjk9Z-N39O"
      }
    },
    {
      "cell_type": "code",
      "source": [
        "sentiment_counts = df[0].value_counts().sort_index()\n",
        "print(\"\\nDistribution of Sentiment Labels (0: negative, 4: positive):\")\n",
        "print(sentiment_counts)\n",
        "\n",
        "plt.figure(figsize=(6, 4))\n",
        "sns.barplot(x=sentiment_counts.index.astype(str), y=sentiment_counts.values)\n",
        "plt.title('Distribution of Sentiment Labels')\n",
        "plt.xlabel('Sentiment (0: negative, 4: positive)')\n",
        "plt.ylabel('Count')\n",
        "plt.show()"
      ],
      "metadata": {
        "colab": {
          "base_uri": "https://localhost:8080/",
          "height": 502
        },
        "id": "I0BHARHYNu1e",
        "outputId": "c83c43e7-5ed8-42e7-e978-d6219e006644"
      },
      "execution_count": 15,
      "outputs": [
        {
          "output_type": "stream",
          "name": "stdout",
          "text": [
            "\n",
            "Distribution of Sentiment Labels (0: negative, 4: positive):\n",
            "0\n",
            "0    495\n",
            "Name: count, dtype: int64\n"
          ]
        },
        {
          "output_type": "display_data",
          "data": {
            "text/plain": [
              "<Figure size 600x400 with 1 Axes>"
            ],
            "image/png": "[encoded data removed]"
          },
          "metadata": {}
        }
      ]
    },
    {
      "cell_type": "markdown",
      "source": [
        "Distribution of Text lengths.\n",
        "Craete a new column for text lengths"
      ],
      "metadata": {
        "id": "rh9NWeqJOBQQ"
      }
    },
    {
      "cell_type": "code",
      "source": [
        "df['text_length'] = df[5].apply(len)\n",
        "print(\"\\nDescriptive statistics of text lengths:\")\n",
        "print(df['text_length'].describe())\n",
        "\n",
        "plt.figure(figsize=(8, 4))\n",
        "sns.histplot(df['text_length'], bins=30, kde=True)\n",
        "plt.title('Distribution of Text Length (in characters)')\n",
        "plt.xlabel('Text Length')\n",
        "plt.ylabel('Frequency')\n",
        "plt.show()"
      ],
      "metadata": {
        "colab": {
          "base_uri": "https://localhost:8080/",
          "height": 606
        },
        "id": "dSmtY-u5OAfA",
        "outputId": "b864902c-1e5b-412d-bfa2-3f2214a7215a"
      },
      "execution_count": 16,
      "outputs": [
        {
          "output_type": "stream",
          "name": "stdout",
          "text": [
            "\n",
            "Descriptive statistics of text lengths:\n",
            "count    495.000000\n",
            "mean      55.123232\n",
            "std       34.543333\n",
            "min        2.000000\n",
            "25%       28.000000\n",
            "50%       48.000000\n",
            "75%       79.000000\n",
            "max      139.000000\n",
            "Name: text_length, dtype: float64\n"
          ]
        },
        {
          "output_type": "display_data",
          "data": {
            "text/plain": [
              "<Figure size 800x400 with 1 Axes>"
            ],
            "image/png": "[encoded data removed]"
          },
          "metadata": {}
        }
      ]
    },
    {
      "cell_type": "markdown",
      "source": [
        "Sum up the TF-IDF weights across all documents for each term"
      ],
      "metadata": {
        "id": "IePD5kMzOX4n"
      }
    },
    {
      "cell_type": "code",
      "source": [
        "tfidf_sum = np.array(X_tfidf.sum(axis=0)).flatten()\n",
        "print(tfidf_sum)\n",
        "print(tfidf_sum.shape)"
      ],
      "metadata": {
        "colab": {
          "base_uri": "https://localhost:8080/"
        },
        "id": "NX-daTjtOWsZ",
        "outputId": "88c8567f-1d51-4b8c-9093-31495e447d55"
      },
      "execution_count": 19,
      "outputs": [
        {
          "output_type": "stream",
          "name": "stdout",
          "text": [
            "[13.49784211  0.60350257  0.25305029 ...  0.36669603  0.27625148\n",
            "  0.39187245]\n",
            "(1649,)\n"
          ]
        }
      ]
    },
    {
      "cell_type": "markdown",
      "source": [
        "Get feature names from the vectorizer"
      ],
      "metadata": {
        "id": "5PWVnfkBO0nR"
      }
    },
    {
      "cell_type": "code",
      "source": [
        "vocab = vectorizer.get_feature_names_out()\n",
        "print(vocab)"
      ],
      "metadata": {
        "colab": {
          "base_uri": "https://localhost:8080/"
        },
        "id": "hd7S6Ud4OqP1",
        "outputId": "6fba9dec-0bdb-4b7c-896d-ac49fb5aeec3"
      },
      "execution_count": 21,
      "outputs": [
        {
          "output_type": "stream",
          "name": "stdout",
          "text": [
            "['a' 'aaaaand' 'aaw' ... 'yucky' 'yup' 'zoo']\n"
          ]
        }
      ]
    },
    {
      "cell_type": "markdown",
      "source": [
        "Create a DataFrame for words and their corresponding total TF-IDF weights."
      ],
      "metadata": {
        "id": "dNsO6xX7PFD1"
      }
    },
    {
      "cell_type": "code",
      "source": [
        "tfidf_df = pd.DataFrame({'word': vocab, 'total_tfidf': tfidf_sum})"
      ],
      "metadata": {
        "id": "l8u9dq_0PAAU"
      },
      "execution_count": 22,
      "outputs": []
    },
    {
      "cell_type": "markdown",
      "source": [
        "Sort by weight in descending order to obtain the most influential words."
      ],
      "metadata": {
        "id": "dpb3_vLnPKPa"
      }
    },
    {
      "cell_type": "code",
      "source": [
        "tfidf_df = tfidf_df.sort_values(by='total_tfidf', ascending=False)\n",
        "print(\"\\nTop 10 words by total TF-IDF weight:\")\n",
        "print(tfidf_df.head(10))\n",
        "\n",
        "plt.figure(figsize=(10, 6))\n",
        "sns.barplot(x=\"total_tfidf\", y=\"word\", data=tfidf_df.head(10))\n",
        "plt.title('Top 10 Words by Total TF-IDF Weight')\n",
        "plt.xlabel('Total TF-IDF Weight')\n",
        "plt.ylabel('Word')\n",
        "plt.show()"
      ],
      "metadata": {
        "colab": {
          "base_uri": "https://localhost:8080/",
          "height": 795
        },
        "id": "HPcrAVcyPNXY",
        "outputId": "c2bb997f-8af4-430c-a5d3-8a89425108cf"
      },
      "execution_count": 23,
      "outputs": [
        {
          "output_type": "stream",
          "name": "stdout",
          "text": [
            "\n",
            "Top 10 words by total TF-IDF weight:\n",
            "     word  total_tfidf\n",
            "693     i    34.698225\n",
            "1424   to    21.083406\n",
            "1391  the    19.247090\n",
            "913    my    18.061682\n",
            "720    is    15.813646\n",
            "0       a    13.497842\n",
            "1359    t    13.396581\n",
            "53    and    12.966009\n",
            "724    it    12.720936\n",
            "1640  you    11.757520\n"
          ]
        },
        {
          "output_type": "display_data",
          "data": {
            "text/plain": [
              "<Figure size 1000x600 with 1 Axes>"
            ],
            "image/png": "[encoded data removed]"
          },
          "metadata": {}
        }
      ]
    },
    {
      "cell_type": "markdown",
      "source": [
        "Basic NTLK"
      ],
      "metadata": {
        "id": "rHFRV9M7QyNR"
      }
    },
    {
      "cell_type": "code",
      "source": [
        "import nltk\n",
        "import matplotlib.pyplot as plt"
      ],
      "metadata": {
        "id": "MTgiIQDVPRp_"
      },
      "execution_count": 24,
      "outputs": []
    },
    {
      "cell_type": "markdown",
      "source": [
        "Download necessary NTLK data files"
      ],
      "metadata": {
        "id": "-_hrOaCTQ6_P"
      }
    },
    {
      "cell_type": "code",
      "source": [
        "nltk.download('punkt')\n",
        "nltk.download('stopwords')\n",
        "nltk.download('averaged_perceptron_tagger')\n",
        "nltk.download('punkt_tab')\n",
        "\n",
        "\n",
        "from nltk.tokenize import word_tokenize\n",
        "from nltk.corpus import stopwords"
      ],
      "metadata": {
        "colab": {
          "base_uri": "https://localhost:8080/"
        },
        "id": "EUbB6sA8Q5pi",
        "outputId": "41c72cb7-3525-4393-c677-39424e6bfb85"
      },
      "execution_count": 29,
      "outputs": [
        {
          "output_type": "stream",
          "name": "stderr",
          "text": [
            "[nltk_data] Downloading package punkt to /root/nltk_data...\n",
            "[nltk_data]   Package punkt is already up-to-date!\n",
            "[nltk_data] Downloading package stopwords to /root/nltk_data...\n",
            "[nltk_data]   Package stopwords is already up-to-date!\n",
            "[nltk_data] Downloading package averaged_perceptron_tagger to\n",
            "[nltk_data]     /root/nltk_data...\n",
            "[nltk_data]   Package averaged_perceptron_tagger is already up-to-\n",
            "[nltk_data]       date!\n",
            "[nltk_data] Downloading package punkt_tab to /root/nltk_data...\n",
            "[nltk_data]   Unzipping tokenizers/punkt_tab.zip.\n"
          ]
        }
      ]
    },
    {
      "cell_type": "markdown",
      "source": [
        "Combine all cleaned text into one large string"
      ],
      "metadata": {
        "id": "ju84_35SRFdB"
      }
    },
    {
      "cell_type": "code",
      "source": [
        "all_text = \" \".join(df[5].tolist())\n",
        "print(all_text)"
      ],
      "metadata": {
        "colab": {
          "base_uri": "https://localhost:8080/"
        },
        "id": "M9zBnzLfRMh5",
        "outputId": "92bc2737-95f5-4272-d9c2-14eaa06f2310"
      },
      "execution_count": 27,
      "outputs": [
        {
          "output_type": "stream",
          "name": "stdout",
          "text": [
            "awww is upset that he can t update his facebook by texting it and might cry as a result school today also blah i dived many times for the ball managed to save the rest go out of bounds my whole body feels itchy and like its on fire no not the whole crew need a hug nope they didn t have it que me muera spring break in plain city it s snowing i just re pierced my ears i couldn t bear to watch it and i thought the ua loss was embarrassing it it counts i wish i got to watch it with you i miss you and how was the premiere hollis death scene will hurt me severely to watch on film wry is directors cut not out now about to file taxes ahh ive always wanted to see rent love the soundtrack oh dear were you drinking out of the forgotten table drinks i was out most of the day so didn t get much done one of my friend called me i baked you a cake but i ated it this week is not going as i had hoped blagh class at tomorrow i hate when i have to call and wake people up just going to cry myself to sleep after watching marley and me im sad now miss lilly ooooh lol that leslie and ok i won t do it again so leslie won t get mad again meh almost lover is the exception this track gets me depressed every time some hacked my account on aim now i have to make a new one i want to go to promote gear and groove but unfornately no ride there i may b going to the one in anaheim in may though thought sleeping in was an option tomorrow but realizing that it now is not evaluations in the morning and work in the afternoon awe i love you too am here i miss you i cry my asian eyes to sleep at night ok i m sick and spent an hour sitting in the shower cause i was too sick to stand and held back the puke like a champ bed now ill tell ya the story later not a good day and ill be workin for like three more hours sorry bed time came here gmt i don t either its depressing i don t think i even want to know about the kids in suitcases bed class work gym or then class another day that s gonna fly by i miss my girlfriend really don t feel like getting up today but got to study to for tomorrows practical exam he s the reason for the teardrops on my guitar the only one who has enough of me to break my heart awww i soo wish i was there to see you finally comfortable im sad that i missed it falling asleep just heard about that tracy girl s body being found how sad my heart breaks for that family yay i m happy for you with your job but that also means less time for me and you just checked my user timeline on my blackberry oh man was ironing fave top to wear to a meeting burnt it is strangely sad about lilo and samro breaking up oh i m so sorry i didn t think about that before retweeting broadband plan a massive broken promise via still waiting for broadband we are our duck and chicken are taking wayyy too long to hatch put vacation photos online a few yrs ago pc crashed i need a hug i hate when that happens i have a sad feeling that dallas is not going to show up i gotta say though ugh degrees tomorrow where did u move to i thought u were already in sd hmmm random u found me glad to hear yer doing well i miss my ps just leaving the parking lot of work the life is cool but not for me i had such a nice day too bad the rain comes in tomorrow at am too bad i won t be around i lost my job and can t even pay my phone bill lmao aw shucks damm back to school tomorrow mo jobs not forever see you soon agreed oh haha dude i dont really look at em unless someone says hey i added you sorry i m so terrible at that i need a pop up i m sure you re right i need to start working out with you and the nikster or jared at least i really hate how people diss my bands trace is clearly not ugly gym attire today was puma singlet why won t you show my location no picnic my phone smells like citrus my donkey is sensitive about such comments nevertheless no new csi tonight fml i think my arms are sore from tennis wonders why someone that u like so much can make you so unhappy in a split seccond depressed sleep soon i just hate saying bye and see you tomorrow for the night missin the boo me too itm damn i don t have any chalk my chalkboard is useless had a blast at the getty villa hey missed ya at the meeting sup mama why is it always the fat ones i should have paid more attention when we covered photoshop in my webpage design class in undergrad wednesday my b day don t know what do poor cameron the hills pray for me please strider is a sick little puppy so rylee hey you don t follow me a bad nite for the favorite teams astros and spartans lose the nite out with t w was good body of missing northern calif girl found police have found the remains of a missing northern california girl i hope they will increase the capacity fast behind on my classes for work watching quot house quot remember my bum leg strikes back this time its serious emily will be glad when mommy is done training at her new job she misses her would rather the first party send bad messages than the rd party send mixed ones sophmore year all over again it s overrated i know i heard it this afternoon and wondered the same thing moscow is so behind the times laying in bed with no voice i m sooo sad they killed off kutner on house whyyyyyyyy sorry tell them mea culpa from me and that i really am sorry it didn t make any sense to me hope your ok damn the grind is inspirational and saddening at the same time don t want you to stop cuz i like what u do much love yeah aw but i know i wudnt stand a chance ugh cant sleep its am hanging in crooners wanna sing can t sucks aaw i miss ya all too im leaving to bh tomorrow quot morning quot i think aww i wanna go to the beach w u girls is pissed off that there s no asba s for a radio station wednesday my b day n don t know what do i know my life has been flipped upside down when i just thought in my head that some ramen sounds good i am in pain my back and sides hurt not to mention crying is made of fail but but but i m not a big fan on camilla belle wah i can t see clip this week just seems to get longer and longer in terms of how much i need to do and how much i m actually going to get done i m so cold ehhh don t weather s gonna take a turn for the ugly tomorrow haha its so cooooold in the d and no but you should still go to the show they do some incredible stuff hoping the tummy rumbles go away soon almost bedtime i m missing you babe but as long as your alive i m happy ya i m tired my love imma try to sleep hopefully you had a headstart agh snow i miss kenny powers thank you for letting people know and i guess that s a no then sadly is going to bed shame to hear this stephan hey i m leavin in the morning was intending to finish editing my page novel manuscript tonight laid around too much today now my head hurts i still haven t read the th amp th princess diaries saving francesca made me cry at the end hmm those are easy books my nokia died my mom might have breast cancer won t find out anything for like a week i m so worried going to sleep hoping tomorrow is a better day lol wish they understood daylight savings has ended though and breakfast is an hour later they keep waking the kids up too that is lame i don t understand i really don t heroes just isn t doing it for me this season living not downtown sure isn t much fun not calorie wise i wish junk food was calorie free i ate a thing of sour skittles and a big ass cherry coke man work is hard getting eyebrows waxed more pain no phantasy star yesterday going to work oh just got all my macheist apps sweet didn t get the espresso serial no though although they said they sent it oh well picked mich st to win it all from the get go was feeling pretty good about that pick all the way up until tonight a s lost too is alone downstairs working i feel bad for doing it yes sprint has g only in baltimore and chicago so far i m stuck awake in the middle of the night for the second day in a row and i felt terrible yesterday thanks for bursting my bubble going to school soon can t find anything to wear gosh it s so hard i was serious lol i had on my page for sooooo long until it got deleted sad day in history crazy wind today no birding currently at work grrr my ipods acting weird too jai ho and thinking of you aren t playing the full songs ughh send me the dvd cos i have missed out on heaps not happy about that i don t see the big deal with this website i m so sorry you re having to go through this again therapyfail far too out of the way for rail any other tips i m not still up i swear why do i keep losing gaining losing gaining tweeps so heart wrenching today i realized i am too good at hiding things staying at a friends house house sitting danny im upset that i wasnt here to watch the live chat i was in a car for hours on a trip im soooo upset check out my mug borders closed at downloading nin s new album quot the slip quot when the hell did this come out i m so behind the times these days just woke up an already have written some e mail i ve to go early at university today as i have to teach at am is watching the hill and its making me sad so many channels yet so so boring lazy day again may have to find a hobby i miss my buddy ill be in ny on the th love the french i tell people here in the south i m qtr french and they snarl at me french are beautiful people opps as i said i still got one day remain and now problem come i activated my selfcontrol block early oh no spencer is not a good guy what about reese dying on ttsc and season finale next week boring didn t get shit done today i m so screwed wanttss to go out is not going to sleep tonite too worried and tired to post tonight couldn t get shit done today i m so screwed job interview in cardiff today your show is whack way worse than whack i really don t think people choose to be that way but i think he chose not to accept my family s help he might be dead by now you re going to kill me i think ur right hahaha hrs now i hate to see the spartans so sad my mind and body are severely protesting this quot getting up quot thing had nightmares to boot i m goin to follow u i think i want to read some books but the library doesn t have them my nap was interrupted so many times today going out for japanese with the rents again kind of longs for the bus that shows up at the end of ghost world right now ugh but this is canada canada is weird we re supposed to get snow through wednesday ugh awwh babs you look so sad underneith that shop entrance of quot yesterday s musik quot o i like the look of the new transformer movie sad that the feet of my macbook just fell off i m gonna get up late tomorrow and it s am here i gonna get tipsy by my lonesome that s that s just sad i m sweating my forthcoming trip to e if i can t find someone to crash with while i m out there has now gotten somebody to read his tweets omgawd i couldnt handle my cat being in heat all the time d d i hope i can make it to the auburn show but its not looking good for me thats people mag haha i couldnt fit it all in i dont think those pictures ever made it in the magazine tho haha congrats i totally forgot to submit photos awww now your leaving me gets sad shooting outside my house o not kidding so scared tuesday ll start with reflection n then a lecture in stress reducing techniques that sure might become very useful for us accompaniers what tragedy and disaster in the news this week yes yes still trying to find a picture that will upload correclty why oh why was the red sox game rained out i was so looking forward to opening day i still can t find my keys i know right i dunno what is going on with twitter might be getting a sore throat again my home town my mammy called all depressd pls explain y a parent let their yr old child walk alone hello its i think i need to find better anti depressants i think this paxil wellbutrin combo is losing its efficacy restaurant called woodntap has competitive eating tourney round tourney time we place nd is in the bathroom wake up lakin i want tacos and margarhitas telll gay i say hello lt im lonely keep me company female bad day at the betfair office i miss him can t wait to celebrate the tar heel win this weekend though i m really cold i don t want to go to sleep yet but there s nothing to do is this it u its officially over me this go round monkeys i just found out you my twin and you wont even write back i m heartbroken aww i know i felt like that yesterday at work treaty isn t defined missed brent at praise band no fun to not have the your lead guitarist lt pout gt poor john this is what happens when you play with fruit and a microwave seriously though have you seen a doctor xxx missing my bff watching home and away it reminds me of her and me we lt it shout out to u courts new video card is doa damn i am so late at filling this appraisal form missed brent at praise band no fun to not have your lead guitarist lt pout gt i think to much on the past i cant change it i deserved so much more then wat i got but why am i still thinking about him gah has lost his ring it s no where to be seen ooooooh sealclap see is still nursing my nile but glad he is feeling better i hate when my baby is sick is fucked to go back to ic yoyoyo my internet has been rude tonight it just reconnected and i m about to go to bed well i have uni stuff and netball but after netbal if i ve done uni stuff we can me too i is poor help me forget th april amp th july dierks bentley is comin to columbus i have to take my sidekick back congrats i m totally jealous only wish my xm was working gr t my face is very itchy poor socks luvvvvv the golden retriever i want one sighhhh i just saw that they found that tracy girl in a piece of luggage how fucking terrible aaaaand the nausea is back ooh i m excited and not even going be there long love youtube spent hour to reach to axis bank only to find out today is holiday for mahavir jayanti contd i agree the jobros dont update theres very often it is hilarious and i linked the clip from lj some time ago but when i went back just now it was a dead link oooooooo who with im not neither but thats because i need to study haven t tweeted nearly all day posted my website tonight i miss bentley seriously needs to finish these job applications whinging my client amp boss don t understand english well rewrote some text unreadable it s written by v good writer amp reviewed correctly i don t want him to ever punch me sooo sick of the snow ughh it doesn t work your fan is upset i would like to apologize for the repeated video games live related tweets i am going to have a stern discussion with koodo soon stern but i cant figure out how to get there back pay for a hotel etc feels like she slept the day away not looking forward to any more bouts with my gallbladder at least i have pills now for the pain but what i really want is my old bass back mad tired today callin it in early tonight nighty night twittas take it easy i m afraid i had bad code think i m going to bed goodniight i hate this all this time you didn t notice i was gone just needed db is it is in the bathroom and i have to pee but i wanted a margarita too yup night workouts r the worst but unfortunetly my work schedule only allows me to go at night its tough just called hillsong again they said they couldn t tell me where i was on the waiting list i don t know if it s looking so good has g of milky bar left it stillllll hasn t arrived ah i bet it does i ve been like craving to play softball or basketball but i have noo time is terrified she accidentally deleted a reference in her management assignment and hopes she doesnt get in trouble when she gets back amazon s plugin not worked in my website it need php but my hosting provider has only php very sad argh i was suuuper sleepy an hour ago i wish i was sold out if you have some time let me know just watched tropic thunder dreading tomorrow no he s still miss n chiefdelphi is down according to my bro playing game at home my new boss didn t call me yet su yin huen tweeted i feel unbearable guilt i made my staff cry poor joshy is sick those damn tejanos my thoughts are with sandra cantu s family at this difficult and sad time i know michigan who i don t know them sigh shameful i have to fill two hours so cuuute hey oh did i mention it quot gooooood moooorniiiiiiing quot from germany im back in my cage or better my office throat is closing up and i had some string cheese not a good idea aww wishing i was home underneath my covers walking home from school drains all my energy i agree the shapeshifting is a copout i was so excited for angela s ep dang i would have done this if i knew it was there earlier any other outings planned i wish i was better at writing it s taking me so long to write this paper and of course i have access to my halo mythic map pack re download but bad news not the legendary map pack ugh ms not yet unfortunately ha the sun s already gone day a lot harder than day let s see how day goes tomorrow my man crush jake peavy let me down gayforpeavy michigan state you make me sad omg my mouth is in so much pain i just wanna sleep untill its time to take my braces off getting annoyed easily today gt gt gt biofuel proposal getting annoyed easily today gt gt gt biof hey girl the site is back girlyvue is back and they have even more videos i m spending time with my grandma early tomorrow and i can t leave skittles by herself just got home from watching michigan state get tromped oh jew bus two years worth of classes work is alot to organize gt lt i m not finishing tonight no exchanging for me i hope this doesn t last too long i feel miserable rachel hang outage is neccessary i was gonna be home this wekend but dumb folk make me work so im free f and sat until not fun amp furious the new mantra for the bay breakers it was getting rambunctious the city overreacted amp clamped down my hubby for some reason thinks it s more important he has a good spot for red carpet for the trek movie premiere sod i swear no matter how long i ve been getting up at am jeffree how do you keep your hair one color my permanent dye fades within the week my reaction too whoa i think maybe you should get a couple more hours of sleep thanks a lot learned a lot of new words but didn t find what i was looking for wish i had all the xblm downloads all on the gamertag hitokyri this gamertag thing is nonsense and i m tired of it new testament test at am tons no hay troll ahhhh stupid movies we watched mirrors ugggggh stooopeeed rip off i love you last one but still not done homework i don t understand why things get taken away i didn t have enough time with him its unfair i want him back he was like my baby scratch that du in heif two in a half cookies my tum just can t take anymore shoog poots i was just listening to the sweets for the first time in forever i miss them so much can we go to chi town for visits plz dang another spring break how cool is that too bad i have to work all week oh well im afraid too ur reply about uni from ages ago feeling down lol they are some emotional ass men omg all this late night eating both of us are broke aww nick i like your hair longer wonder if jon lost the net wow the most depressing thing in the world is losing a video that you ve created in a matter of seconds fml but all says not in stock lmao im sorry poohpot i ate it all any chance softbelly for isn t loud time to move my posterior and lose some fat my articulation are creaking so no more running but i m drool for some swimming listening to nathan cry today sucked i m gonna die without chris and callum wahhh sorry i m feeling kinda yucky myself am is going to come too quick is in love with scrappy and is missin him already wants to hear s song but myspace is messing with me bad news was dad has cancer and is dying good news new business started and i am now a life coach practising holistic weight management man intervention is soo sad help i need a new boyfriend i m stuck in a rut i feel like a complete idiot i m the only one who doesn t get how this shit works help me saw an ad on craigslist for a casting call for a female host on g i was totally psyched but realized it was a hoax pepperoni rolls in l a i called valentino s they said that they had sausage rolls but no pepperoni rolls yes i want the new gg episode already i miss watching rocko s modern life rip sandra its so sad how can someone do something like that keeping my fingers crossed for my buddy he is not feeling well wait should i eat or be skinny for vegas i m hungry i tried tweetdeck once and i hated it with a passion or it hated me sitting here wondering why quot ed quot still has such a strong hold on me im sorry i got you sick lol going to bed too night no internet at home the weather in canada is freezing twiggassssssss i been out of range all day i m back now and hopefully for good anyone who reads this pray for my grandma she s in pain woke up and was having an accident quot it s pushing home from franklin street hey you just changed your default finally gave in and was bored enough to start this thing i think the is going to be a problem for me tho its like a myspace status if oooonly we were really so lucky buttload of homework needs another copy of visual studio omg i ve an economics test and i dont know all the things i have to know and omg im gonna fail once upon a time hundred islands was the pride of philippine tourism yeah i know i was really surprised since everyone recommends them on youtube i have to call them tomorrow and figure it all out waiting at the airport for my ride while i get harassed by men trying to sell me ugly hats why me i just want to sleep i left my ids at the location and now i can not go out to bars fuckkkkkkkkkkkkk i m sorry i don t understand your last comment when is the announcement i stayed up late last night its not enough to say that imiss u this trolley has up packed in like sardines padre game and they remove a car good call mts jeez that happened to me saturday night along with my glittery green lighter trying to reduce the number of cigarettes in each day yea it is so quiet around here cuz everyone has to work im bored to death with nobody to talk to gotta do my cooking assignment its too hard i know i m a night owl by nature lol nope but i did have complete camerafail but i m useless if i don t sleep it s not fair i want all the fun as well my pookie has a uti i have to be nurse gabbie and get him back to no more sodas tweet something damn it and hang out with me please i m so behind in video games i did is stressing out because my blackberry keeps flashing a red alert status for no reason its faking me out and i hate it i wanna wear my doc martens out haven t worn them since december when to the shoe repair shop and the guy could not find my shoes so i have to go back and see if he can find them in a couple days i did not really see that coming it ll take days for my sister to get her passport oh my yes i miss uh oh i think i am getting sick good god they ruined my belly button watching who framed roger rabbit makes me miss toon town renting but very cheap renting running nose spinning head not a good combination for a meeting negative you lost my vote of confidence nasty budget due and my iphone is being sent to apple today that s bad dammit i m so upset that i missed my chat and quiz online because my free internet has ceased can t believe it i m in disbelief of it all in a way really how much can i take from people and always get hurt by others car show season has started without me my throat is raw i just don t get it what in a persons mind could even have them on some ish like this my prayers are with her fam for real i hate you i didn t need to see that i need to call my therapist now twilight didn t come yesterday fingers crossed for today glad i was able help you feel better i hate to see you sick love you is tireddddddd want to sleep but i have an assignment to finish and an exam tomorrow to study for you know omg its jst teusday ummmmm i cant find it just heard that they found sandra cantu she was only yrs old ive forgotten how to snoo snoo i wonder if snoo snoo and i will ever meet again wow that last tweet made me seem like a giant sexist sorry about that stuck at home mine is how do you get it up duckling in famous children s book stolen from boston s public garden the boston globe via oh no thank you however heading to altrincham morning good im bloody knackered work is not for me today helppp xxx i don t have a garage but you can park in my driveway what happened quot on popular music quot by t w adorno is probably the most difficult reading ever prescribed cant see the flowers falling i dont have a camera we ve been good i m not liking the snow right now what a pity youtube is currently blocked in china i can t see the vids what happened to your show it was the hightlight of my life this is the best leather sofa in the world it s in the office though which means i m still here working still more days until my internet gets uncapped if he doesn t get better in a few days i love my atekinzz so much amp amp i soo miss her i wanna sneak into the zoo and play with the kitties oh no hope you re not getting sick too i dont think i can cause its my cousins birthday party our sweet little man just fell asleep while waiting up for daddy and big brother to get home poor baby the angel is going to miss the athlete this weekend trust is hard have watched that considering today yaknow shawnna tomomorrow i need my bestfriend grr i want to keep reading but if i do i wont have anything left to read atekinzz no u supposed to be my date crap i need more dresses too yeah i know it was horrible ugh saddening geez ur no fun are you i wanna be in a punk rock band again that s a lot of angst for a tuesday afternoon i m very glad britney isn t crazy anymore that was one hell of a show now i m sad that it s over next up ap at cook county has a huuuge headache omg i feel like crap sorry sorry i was rooting for them too man i see i am listing more items on ebay to sell takes forever meanwhile coleman is watching the hills season premier without me just got my presentation done just lost i don t like the previously on skins thing that starts at season two i like it when it went straight into the intro like before i wish i was there i m pretty good at scaring the shit out of people going to sound vain but running out of my fav lip gloss why is that when you have time off from work you get sick same imac came out more in indonesia than the states dammit i need to stop buying furniture no i was half asleep and turned off the laptop after that i think lost the net sure hope not such a tough game to watch tonight for state finally going to bed after also staying up to watch the season premiere of the hills seems jruby support for hpricot is now two versions behind unlike my sister i still don t have one fraking app store is pissing me off logging out i need to study anyone else having problems accessing ttb i cant get on i strongly dislike people who make stupid comments and dont know the whole story i m sorry emma all my tweets are already gone can t sleep again face is kinda swollen don t let me be allergic to the thing that ll get me to thursday school tomorrow doubtful i am officially banning godaddy com from my comp my head hurts from the small print and i wasted that could ve happily gone to boba pretty much just scary for me mines too i m finding it well hard to get fit good morning ready go hates waiting for mails wheat bread from the dollar store just doesn t toast nicely going over my taxes and calling it an early night why kutner i mean i knew something was going to happen to someone but it was so sad i lt house and it was well done aw ok goonite\n"
          ]
        }
      ]
    },
    {
      "cell_type": "markdown",
      "source": [
        "Tokenize the text into words"
      ],
      "metadata": {
        "id": "LevfrUaXRXd-"
      }
    },
    {
      "cell_type": "code",
      "source": [
        "tokens = word_tokenize(all_text)"
      ],
      "metadata": {
        "id": "5CKTlPHdRWvI"
      },
      "execution_count": 30,
      "outputs": []
    },
    {
      "cell_type": "markdown",
      "source": [
        "Convert tokens to lowercase to ensure consistency"
      ],
      "metadata": {
        "id": "WDltU1U2R4X9"
      }
    },
    {
      "cell_type": "code",
      "source": [
        "tokens = [token.lower() for token in tokens]"
      ],
      "metadata": {
        "id": "LbECaneVR3zd"
      },
      "execution_count": 31,
      "outputs": []
    },
    {
      "cell_type": "markdown",
      "source": [
        "Remove tokens that are not purely alhabetic"
      ],
      "metadata": {
        "id": "OhlqTe-QSOJp"
      }
    },
    {
      "cell_type": "code",
      "source": [
        "tokens = [token for token in tokens if token.isalpha()]"
      ],
      "metadata": {
        "id": "6PxE_EBVSNVC"
      },
      "execution_count": 32,
      "outputs": []
    },
    {
      "cell_type": "markdown",
      "source": [
        "Load English stopwords"
      ],
      "metadata": {
        "id": "NzYXdjnySb_B"
      }
    },
    {
      "cell_type": "code",
      "source": [
        "stop_words = set(stopwords.words('english'))"
      ],
      "metadata": {
        "id": "qo-MTYSjSfy7"
      },
      "execution_count": 33,
      "outputs": []
    },
    {
      "cell_type": "markdown",
      "source": [
        "Filter out stopwords"
      ],
      "metadata": {
        "id": "tKCBGqZJSk_T"
      }
    },
    {
      "cell_type": "code",
      "source": [
        "filtered_tokens = [token for token in tokens if token not in stop_words]"
      ],
      "metadata": {
        "id": "44kDw-VoSkV9"
      },
      "execution_count": 34,
      "outputs": []
    },
    {
      "cell_type": "markdown",
      "source": [
        "Create a frequency distribution of the filtered tokens."
      ],
      "metadata": {
        "id": "p3U-SgiHSrzV"
      }
    },
    {
      "cell_type": "code",
      "source": [
        "freq_dist = nltk.FreqDist(filtered_tokens)\n",
        "\n",
        "print(\"Total number of tokens:\", len(tokens))\n",
        "print(\"Total number of tokens after filtering stopwords and non-alphabetic tokens:\", len(filtered_tokens))\n",
        "print(\"\\nTop 10 Most Common Tokens:\")\n",
        "print(freq_dist.most_common(10))"
      ],
      "metadata": {
        "colab": {
          "base_uri": "https://localhost:8080/"
        },
        "id": "AB7I4kmUSrcI",
        "outputId": "7d57595d-74d0-47e6-ccdc-5e0b40f83a64"
      },
      "execution_count": 35,
      "outputs": [
        {
          "output_type": "stream",
          "name": "stdout",
          "text": [
            "Total number of tokens: 5760\n",
            "Total number of tokens after filtering stopwords and non-alphabetic tokens: 2978\n",
            "\n",
            "Top 10 Most Common Tokens:\n",
            "[('get', 29), ('like', 25), ('going', 24), ('today', 20), ('day', 20), ('sad', 20), ('good', 20), ('know', 20), ('time', 19), ('back', 19)]\n"
          ]
        }
      ]
    },
    {
      "cell_type": "markdown",
      "source": [
        "Plot the top 10 most common words"
      ],
      "metadata": {
        "id": "lmUTZ3--S2WJ"
      }
    },
    {
      "cell_type": "code",
      "source": [
        "plt.figure(figsize=(10, 6))\n",
        "freq_dist.plot(10, title='Top 10 Most Common Words')\n",
        "plt.show()"
      ],
      "metadata": {
        "colab": {
          "base_uri": "https://localhost:8080/",
          "height": 595
        },
        "id": "AisP5sz_S5es",
        "outputId": "bb490c79-0a2a-4cf8-ae34-cfcd2a7315b0"
      },
      "execution_count": 36,
      "outputs": [
        {
          "output_type": "display_data",
          "data": {
            "text/plain": [
              "<Figure size 1000x600 with 1 Axes>"
            ],
            "image/png": "[encoded data removed]"
          },
          "metadata": {}
        }
      ]
    },
    {
      "cell_type": "markdown",
      "source": [
        "Perform part of speech tagging on asample text"
      ],
      "metadata": {
        "id": "4O5Zdna-S9J5"
      }
    },
    {
      "cell_type": "code",
      "source": [
        "import nltk\n",
        "import matplotlib.pyplot as plt\n",
        "\n",
        "# ... (your existing code) ...\n",
        "\n",
        "# Download necessary NTLK data files\n",
        "nltk.download('punkt')\n",
        "nltk.download('stopwords')\n",
        "# Download with the language-specific resource identifier\n",
        "nltk.download('averaged_perceptron_tagger_eng')\n",
        "nltk.download('punkt_tab')\n",
        "\n",
        "# ... (rest of your existing code) ...\n",
        "\n",
        "sample_text = df[5].iloc[0]\n",
        "sample_tokens = word_tokenize(sample_text)\n",
        "sample_tags = nltk.pos_tag(sample_tokens)\n",
        "\n",
        "print(\"\\nSample text:\", sample_text)\n",
        "print(\"POS tags:\", sample_tags)"
      ],
      "metadata": {
        "colab": {
          "base_uri": "https://localhost:8080/"
        },
        "id": "QHaTu7duTHUi",
        "outputId": "1afe854d-75cf-4003-edf3-bd0ee9db3ffa"
      },
      "execution_count": 38,
      "outputs": [
        {
          "output_type": "stream",
          "name": "stderr",
          "text": [
            "[nltk_data] Downloading package punkt to /root/nltk_data...\n",
            "[nltk_data]   Package punkt is already up-to-date!\n",
            "[nltk_data] Downloading package stopwords to /root/nltk_data...\n",
            "[nltk_data]   Package stopwords is already up-to-date!\n",
            "[nltk_data] Downloading package averaged_perceptron_tagger_eng to\n",
            "[nltk_data]     /root/nltk_data...\n",
            "[nltk_data]   Unzipping taggers/averaged_perceptron_tagger_eng.zip.\n",
            "[nltk_data] Downloading package punkt_tab to /root/nltk_data...\n",
            "[nltk_data]   Package punkt_tab is already up-to-date!\n"
          ]
        },
        {
          "output_type": "stream",
          "name": "stdout",
          "text": [
            "\n",
            "Sample text: awww\n",
            "POS tags: [('awww', 'NN')]\n"
          ]
        }
      ]
    },
    {
      "cell_type": "markdown",
      "source": [
        "Vader Sentiment Scoring"
      ],
      "metadata": {
        "id": "y84TG4agTYdK"
      }
    },
    {
      "cell_type": "code",
      "source": [
        "from nltk.sentiment import SentimentIntensityAnalyzer"
      ],
      "metadata": {
        "id": "Iwv-D6mwT1to"
      },
      "execution_count": 39,
      "outputs": []
    },
    {
      "cell_type": "markdown",
      "source": [
        "Download VADER lexicon"
      ],
      "metadata": {
        "id": "kU1JZCPJT9ZM"
      }
    },
    {
      "cell_type": "code",
      "source": [
        "nltk.download('vader_lexicon')"
      ],
      "metadata": {
        "colab": {
          "base_uri": "https://localhost:8080/"
        },
        "id": "1Ihv2kktT86s",
        "outputId": "169a9388-c5b3-493a-a797-f774bafdc95b"
      },
      "execution_count": 40,
      "outputs": [
        {
          "output_type": "stream",
          "name": "stderr",
          "text": [
            "[nltk_data] Downloading package vader_lexicon to /root/nltk_data...\n"
          ]
        },
        {
          "output_type": "execute_result",
          "data": {
            "text/plain": [
              "True"
            ]
          },
          "metadata": {},
          "execution_count": 40
        }
      ]
    },
    {
      "cell_type": "markdown",
      "source": [
        "Calculate VADER sentiment Scoring for each text."
      ],
      "metadata": {
        "id": "HYs7FFRUUHq2"
      }
    },
    {
      "cell_type": "code",
      "source": [
        "sia = SentimentIntensityAnalyzer()\n",
        "\n",
        "df['vader_scores'] = df[5].apply(lambda text: sia.polarity_scores(text))"
      ],
      "metadata": {
        "id": "pFyTFiwlUGdl"
      },
      "execution_count": 42,
      "outputs": []
    },
    {
      "cell_type": "markdown",
      "source": [
        "Extract the compound score for the summary measure"
      ],
      "metadata": {
        "id": "uIX02YZyUcxj"
      }
    },
    {
      "cell_type": "code",
      "source": [
        "df['compound'] = df['vader_scores'].apply(lambda scores: scores['compound'])\n",
        "print(df['compound'])"
      ],
      "metadata": {
        "colab": {
          "base_uri": "https://localhost:8080/"
        },
        "id": "_wg6IZgXUnxs",
        "outputId": "9948fbe7-d16b-449a-9ac0-55e3e9688b70"
      },
      "execution_count": 44,
      "outputs": [
        {
          "output_type": "stream",
          "name": "stdout",
          "text": [
            "0      0.0000\n",
            "1     -0.7269\n",
            "2      0.4939\n",
            "3     -0.2500\n",
            "4     -0.2960\n",
            "        ...  \n",
            "495    0.6597\n",
            "496   -0.4404\n",
            "497    0.4404\n",
            "498   -0.5909\n",
            "499    0.2960\n",
            "Name: compound, Length: 495, dtype: float64\n"
          ]
        }
      ]
    },
    {
      "cell_type": "markdown",
      "source": [
        "classify sentiment based on the compound score."
      ],
      "metadata": {
        "id": "wDsLYJepU0w4"
      }
    },
    {
      "cell_type": "code",
      "source": [
        "#    compound >= 0.05  → Positive\n",
        "#    compound <= -0.05 → Negative\n",
        "#    else              → Neutral\n",
        "df['vader_sentiment'] = df['compound'].apply(lambda score: 'positive' if score >= 0.05\n",
        "                                               else ('negative' if score <= -0.05 else 'neutral'))\n",
        "\n",
        "# Display the first few rows with the VADER results.\n",
        "print(df[['vader_scores', 'compound', 'vader_sentiment']].head())"
      ],
      "metadata": {
        "colab": {
          "base_uri": "https://localhost:8080/"
        },
        "id": "bW0IWokOUroR",
        "outputId": "7db60835-6a23-48b6-bae2-ade3307f658b"
      },
      "execution_count": 45,
      "outputs": [
        {
          "output_type": "stream",
          "name": "stdout",
          "text": [
            "                                        vader_scores  compound vader_sentiment\n",
            "0  {'neg': 0.0, 'neu': 1.0, 'pos': 0.0, 'compound...    0.0000         neutral\n",
            "1  {'neg': 0.295, 'neu': 0.705, 'pos': 0.0, 'comp...   -0.7269        negative\n",
            "2  {'neg': 0.0, 'neu': 0.814, 'pos': 0.186, 'comp...    0.4939        positive\n",
            "3  {'neg': 0.321, 'neu': 0.5, 'pos': 0.179, 'comp...   -0.2500        negative\n",
            "4  {'neg': 1.0, 'neu': 0.0, 'pos': 0.0, 'compound...   -0.2960        negative\n"
          ]
        }
      ]
    },
    {
      "cell_type": "markdown",
      "source": [
        "Plot VADER Results"
      ],
      "metadata": {
        "id": "SB46HsC5VRAJ"
      }
    },
    {
      "cell_type": "code",
      "source": [
        "import matplotlib.pyplot as plt\n",
        "import seaborn as sns\n",
        "\n",
        "# Bar plot of VADER sentiment categories\n",
        "sentiment_counts = df['vader_sentiment'].value_counts()\n",
        "\n",
        "plt.figure(figsize=(8, 6))\n",
        "sns.barplot(x=sentiment_counts.index, y=sentiment_counts.values, palette=\"viridis\")\n",
        "plt.title(\"Distribution of VADER Sentiment\")\n",
        "plt.xlabel(\"Sentiment Category\")\n",
        "plt.ylabel(\"Count\")\n",
        "plt.show()\n",
        "\n",
        "# Histogram of VADER compound scores\n",
        "plt.figure(figsize=(8, 6))\n",
        "sns.histplot(df['compound'], bins=30, kde=True, color=\"blue\")\n",
        "plt.title(\"Distribution of VADER Compound Scores\")\n",
        "plt.xlabel(\"Compound Score\")\n",
        "plt.ylabel(\"Frequency\")\n",
        "plt.show()\n"
      ],
      "metadata": {
        "colab": {
          "base_uri": "https://localhost:8080/",
          "height": 1000
        },
        "id": "lRPZJIAAVa9l",
        "outputId": "646325f9-511f-48d5-ceab-23fce36fe0cb"
      },
      "execution_count": 46,
      "outputs": [
        {
          "output_type": "stream",
          "name": "stderr",
          "text": [
            "<ipython-input-46-d11f06a83a77>:8: FutureWarning: \n",
            "\n",
            "Passing `palette` without assigning `hue` is deprecated and will be removed in v0.14.0. Assign the `x` variable to `hue` and set `legend=False` for the same effect.\n",
            "\n",
            "  sns.barplot(x=sentiment_counts.index, y=sentiment_counts.values, palette=\"viridis\")\n"
          ]
        },
        {
          "output_type": "display_data",
          "data": {
            "text/plain": [
              "<Figure size 800x600 with 1 Axes>"
            ],
            "image/png": "[encoded data removed]"
          },
          "metadata": {}
        },
        {
          "output_type": "display_data",
          "data": {
            "text/plain": [
              "<Figure size 800x600 with 1 Axes>"
            ],
            "image/png": "[encoded data removed]"
          },
          "metadata": {}
        }
      ]
    },
    {
      "cell_type": "markdown",
      "source": [
        "Roberta Pretrained Model.Here,we use Hugging Face's Transformer library with a RoBERTa model that has been fine‑tuned for Twitter sentiment analysis."
      ],
      "metadata": {
        "id": "Ez2mC8A3WYI8"
      }
    },
    {
      "cell_type": "code",
      "source": [
        "from transformers import pipeline"
      ],
      "metadata": {
        "id": "WAfcylHUVfIF"
      },
      "execution_count": 47,
      "outputs": []
    },
    {
      "cell_type": "markdown",
      "source": [
        "Initialize the RoBERTa Sentiment Analysis Pipeline"
      ],
      "metadata": {
        "id": "rHgpH9ejW6YZ"
      }
    },
    {
      "cell_type": "code",
      "source": [
        "classifier = pipeline(\n",
        "    'sentiment-analysis',\n",
        "    model='cardiffnlp/twitter-roberta-base-sentiment',\n",
        "    tokenizer='cardiffnlp/twitter-roberta-base-sentiment',\n",
        "    truncation=True  # ensure texts longer than model limits are properly truncated\n",
        ")"
      ],
      "metadata": {
        "colab": {
          "base_uri": "https://localhost:8080/",
          "height": 420,
          "referenced_widgets": [
            "0763565f26d747d094dd3e00932501e5",
            "465f5341ecd84aa0bc8a8ee4f6077c21",
            "db6f0710ace64cddad4822f391f9e5fa",
            "632038be1cec4307a0a27941c014cf69",
            "630ba505bc1a4ca786b15f0c95e84534",
            "9f2ff1f9b673481e89eb18aa83f69260",
            "eb9086ab004949c1861afa1cad999b47",
            "cdc61a883c3c4ee48f75c1350389c9b6",
            "b5abe66dd05c4f1bb79c20680a2a9d50",
            "0ed672fa5ee54f759f66e7518056bd55",
            "4f35ada1e6444059bdbdedc55e2f4c81",
            "b04e4365b2414864aafa8bb7ba2e6e8a",
            "f2528c793521436db3fb4d3bdd06b710",
            "b3dc262427334a3a9f87bf325d289d3f",
            "b71199a0aaf54aa78ae64636d11ddcbb",
            "f5f442f44f83427bb6c7e89be1178de4",
            "e4725309afae45c9849c7fbf5cf90bc2",
            "8a04c2b21457453389d224e045d13adb",
            "35fdbf649473494980ec8978a60d4ef5",
            "08955249e6fe48d093b2d20e5fbe70a4",
            "77ec8b278a1d4f028f66911415096d26",
            "0cb4ba67b7da49ab96d5227940e4573e",
            "f9f0ce4a070240e3b0e6a35984cfcef9",
            "dec5bc7b240746259992415fabbd6538",
            "37fbf3fd767348b780790e9cf7b6fd73",
            "82b6e748f821448caa7bb8ddcf840df5",
            "988f741e9fec441383989f2fd0439935",
            "fefb850650a24774b385d46d8f63c5a5",
            "35a7c6bbe6c045f4b7cc14ad81c56a12",
            "11947e92a2dd405780e199d4d81358c6",
            "232c2b2ba72944aab6cbe975a40681a4",
            "bc5d29caf10d4022ab0c820a286efa09",
            "31f68d517c5c43789dd5253ce403a8e4",
            "82c250626ab045bd98647cc13037865f",
            "d0ae1fec6a554444a65e5df65e3bffef",
            "58097b27735d44feb804823645b0f3aa",
            "f050abb786e043a1b82a160f6495077a",
            "d587dcd59cb444feb87b835ab8885025",
            "fb55e8b7f21a40198cde837b3d8208be",
            "9a8f4b42bbd24c29a3932fbfec429ebc",
            "b63aa61561e9438386a91c98b7db4c09",
            "d932d5124f5b4b0c952197b7a3bca911",
            "171c36854ca142528416a280a01df41e",
            "ee2ed69e052f4f1f88556c37d6b64a8b",
            "84229251ffe844c7a9c14b6e5b40b4e4",
            "0d13392530dc4518827b4533c983f66d",
            "a5557ec08f6a4578abeca400cd240c8a",
            "498808421ffc40e4b0d426dd891f4def",
            "535658ec89594dacbd5c6bd703b0aa8e",
            "9ab1ac877f30417baaa3995980af42d2",
            "f7da2251cc5d4c65a326266c4441d4b8",
            "ac97254198c9418fb7157c11e427e8ee",
            "303325981b734fd4bdd3c2ae83e10a4f",
            "696f4183bc23451ba45ceff8571dbccb",
            "b692c6b4c7fa4f17a6c053c3027d4778",
            "e3d7950570a34b88b04867d7865d6783",
            "1332b4a532784f678c67f02e6753c057",
            "3948d24dcedd4cfba9b583fa192a5314",
            "09bdd51c57fa44e586e4857fc86353c6",
            "51220c66439b44b8b05b87a1107ace80",
            "70720ec5d5134f548e1b0ce4e57f8cbe",
            "1eeb3042ac374445ad14a852e03e933b",
            "bb01b5f3497342d0900147b9c7c75bc6",
            "b0f5fca8482e4a00ad31728a944b7089",
            "74d8f6348e1d4546bfeab07414a5b89d",
            "489d51a5b3bf4c0f80e5313d3720dbd9"
          ]
        },
        "id": "EkEGPT-8WuSH",
        "outputId": "ea9c4e5f-601d-4230-9353-64a45ff4c236"
      },
      "execution_count": 48,
      "outputs": [
        {
          "output_type": "stream",
          "name": "stderr",
          "text": [
            "/usr/local/lib/python3.11/dist-packages/huggingface_hub/utils/_auth.py:94: UserWarning: \n",
            "The secret `HF_TOKEN` does not exist in your Colab secrets.\n",
            "To authenticate with the Hugging Face Hub, create a token in your settings tab (https://huggingface.co/settings/tokens), set it as secret in your Google Colab and restart your session.\n",
            "You will be able to reuse this secret in all of your notebooks.\n",
            "Please note that authentication is recommended but still optional to access public models or datasets.\n",
            "  warnings.warn(\n"
          ]
        },
        {
          "output_type": "display_data",
          "data": {
            "text/plain": [
              "config.json:   0%|          | 0.00/747 [00:00<?, ?B/s]"
            ],
            "application/vnd.jupyter.widget-view+json": {
              "version_major": 2,
              "version_minor": 0,
              "model_id": "0763565f26d747d094dd3e00932501e5"
            }
          },
          "metadata": {}
        },
        {
          "output_type": "stream",
          "name": "stderr",
          "text": [
            "Xet Storage is enabled for this repo, but the 'hf_xet' package is not installed. Falling back to regular HTTP download. For better performance, install the package with: `pip install huggingface_hub[hf_xet]` or `pip install hf_xet`\n",
            "WARNING:huggingface_hub.file_download:Xet Storage is enabled for this repo, but the 'hf_xet' package is not installed. Falling back to regular HTTP download. For better performance, install the package with: `pip install huggingface_hub[hf_xet]` or `pip install hf_xet`\n"
          ]
        },
        {
          "output_type": "display_data",
          "data": {
            "text/plain": [
              "pytorch_model.bin:   0%|          | 0.00/499M [00:00<?, ?B/s]"
            ],
            "application/vnd.jupyter.widget-view+json": {
              "version_major": 2,
              "version_minor": 0,
              "model_id": "b04e4365b2414864aafa8bb7ba2e6e8a"
            }
          },
          "metadata": {}
        },
        {
          "output_type": "stream",
          "name": "stderr",
          "text": [
            "Xet Storage is enabled for this repo, but the 'hf_xet' package is not installed. Falling back to regular HTTP download. For better performance, install the package with: `pip install huggingface_hub[hf_xet]` or `pip install hf_xet`\n",
            "WARNING:huggingface_hub.file_download:Xet Storage is enabled for this repo, but the 'hf_xet' package is not installed. Falling back to regular HTTP download. For better performance, install the package with: `pip install huggingface_hub[hf_xet]` or `pip install hf_xet`\n"
          ]
        },
        {
          "output_type": "display_data",
          "data": {
            "text/plain": [
              "model.safetensors:   0%|          | 0.00/499M [00:00<?, ?B/s]"
            ],
            "application/vnd.jupyter.widget-view+json": {
              "version_major": 2,
              "version_minor": 0,
              "model_id": "f9f0ce4a070240e3b0e6a35984cfcef9"
            }
          },
          "metadata": {}
        },
        {
          "output_type": "display_data",
          "data": {
            "text/plain": [
              "vocab.json:   0%|          | 0.00/899k [00:00<?, ?B/s]"
            ],
            "application/vnd.jupyter.widget-view+json": {
              "version_major": 2,
              "version_minor": 0,
              "model_id": "82c250626ab045bd98647cc13037865f"
            }
          },
          "metadata": {}
        },
        {
          "output_type": "display_data",
          "data": {
            "text/plain": [
              "merges.txt:   0%|          | 0.00/456k [00:00<?, ?B/s]"
            ],
            "application/vnd.jupyter.widget-view+json": {
              "version_major": 2,
              "version_minor": 0,
              "model_id": "84229251ffe844c7a9c14b6e5b40b4e4"
            }
          },
          "metadata": {}
        },
        {
          "output_type": "display_data",
          "data": {
            "text/plain": [
              "special_tokens_map.json:   0%|          | 0.00/150 [00:00<?, ?B/s]"
            ],
            "application/vnd.jupyter.widget-view+json": {
              "version_major": 2,
              "version_minor": 0,
              "model_id": "e3d7950570a34b88b04867d7865d6783"
            }
          },
          "metadata": {}
        },
        {
          "output_type": "stream",
          "name": "stderr",
          "text": [
            "Device set to use cpu\n"
          ]
        }
      ]
    },
    {
      "cell_type": "code",
      "source": [
        "texts = df[5].tolist()\n",
        "# Apply the classifier on all texts (batch processing helps with speed)\n",
        "results = classifier(texts, truncation=True)"
      ],
      "metadata": {
        "colab": {
          "base_uri": "https://localhost:8080/"
        },
        "id": "Ib0nF4-0XLo_",
        "outputId": "642dfd22-a24c-4a4e-a14f-a1d88828ec6a"
      },
      "execution_count": 50,
      "outputs": [
        {
          "output_type": "stream",
          "name": "stderr",
          "text": [
            "Asking to truncate to max_length but no maximum length is provided and the model has no predefined maximum length. Default to no truncation.\n"
          ]
        }
      ]
    },
    {
      "cell_type": "code",
      "source": [
        "df['roberta_sentiment'] = [result['label'] for result in results]\n",
        "df['roberta_score'] = [result['score'] for result in results]"
      ],
      "metadata": {
        "id": "C5bo6LqRXlrw"
      },
      "execution_count": 51,
      "outputs": []
    },
    {
      "cell_type": "markdown",
      "source": [
        "Bar plot  of sentiment distribution"
      ],
      "metadata": {
        "id": "5jfeut9vXxnu"
      }
    },
    {
      "cell_type": "code",
      "source": [
        "entiment_counts = df['roberta_sentiment'].value_counts()\n",
        "\n",
        "plt.figure(figsize=(8, 6))\n",
        "sns.barplot(x=sentiment_counts.index, y=sentiment_counts.values, palette='coolwarm')\n",
        "plt.title(\"Distribution of RoBERTa Sentiment Predictions\")\n",
        "plt.xlabel(\"Sentiment\")\n",
        "plt.ylabel(\"Count\")\n",
        "plt.show()\n",
        "\n",
        "# Histogram of the confidence scores from RoBERTa\n",
        "plt.figure(figsize=(8, 6))\n",
        "sns.histplot(df['roberta_score'], bins=30, kde=True, color='green')\n",
        "plt.title(\"Distribution of RoBERTa Sentiment Confidence Scores\")\n",
        "plt.xlabel(\"Confidence Score\")\n",
        "plt.ylabel(\"Frequency\")\n",
        "plt.show()"
      ],
      "metadata": {
        "colab": {
          "base_uri": "https://localhost:8080/",
          "height": 1000
        },
        "id": "L-pcyjAmXsaZ",
        "outputId": "3c860d00-859b-41b9-f385-c3185c017ae5"
      },
      "execution_count": 52,
      "outputs": [
        {
          "output_type": "stream",
          "name": "stderr",
          "text": [
            "<ipython-input-52-1197c87f6f9c>:4: FutureWarning: \n",
            "\n",
            "Passing `palette` without assigning `hue` is deprecated and will be removed in v0.14.0. Assign the `x` variable to `hue` and set `legend=False` for the same effect.\n",
            "\n",
            "  sns.barplot(x=sentiment_counts.index, y=sentiment_counts.values, palette='coolwarm')\n"
          ]
        },
        {
          "output_type": "display_data",
          "data": {
            "text/plain": [
              "<Figure size 800x600 with 1 Axes>"
            ],
            "image/png": "[encoded data removed]"
          },
          "metadata": {}
        },
        {
          "output_type": "display_data",
          "data": {
            "text/plain": [
              "<Figure size 800x600 with 1 Axes>"
            ],
            "image/png": "[encoded data removed]"
          },
          "metadata": {}
        }
      ]
    },
    {
      "cell_type": "markdown",
      "source": [
        "Comapre between two models"
      ],
      "metadata": {
        "id": "Jx7_eqXyYTHQ"
      }
    },
    {
      "cell_type": "code",
      "source": [
        "df['vader_sentiment'] = df['vader_sentiment'].str.lower()\n",
        "df['roberta_sentiment'] = df['roberta_sentiment'].str.lower()"
      ],
      "metadata": {
        "id": "Sq-K_KDIYVzo"
      },
      "execution_count": 53,
      "outputs": []
    },
    {
      "cell_type": "markdown",
      "source": [
        "Cross Tabulation (HeatMAp) of Sentiment Predictions"
      ],
      "metadata": {
        "id": "3Pj_ShuiYfeh"
      }
    },
    {
      "cell_type": "code",
      "source": [
        "# Create a cross-tabulation counting the occurrence of each combination.\n",
        "crosstab = pd.crosstab(df['vader_sentiment'], df['roberta_sentiment'])\n",
        "\n",
        "# Also create a normalized version (percentage row-wise).\n",
        "crosstab_norm = pd.crosstab(df['vader_sentiment'], df['roberta_sentiment'], normalize='index')\n",
        "\n",
        "print(\"Cross Tabulation (counts):\")\n",
        "print(crosstab)\n",
        "\n",
        "print(\"\\nCross Tabulation (row-normalized):\")\n",
        "print(crosstab_norm)\n",
        "\n",
        "plt.figure(figsize=(8, 6))\n",
        "sns.heatmap(crosstab_norm, annot=True, cmap=\"YlGnBu\", fmt=\".2f\")\n",
        "plt.title(\"Normalized Cross-Tabulation: VADER vs. RoBERTa Sentiment\")\n",
        "plt.xlabel(\"RoBERTa Sentiment\")\n",
        "plt.ylabel(\"VADER Sentiment\")\n",
        "plt.show()"
      ],
      "metadata": {
        "colab": {
          "base_uri": "https://localhost:8080/",
          "height": 795
        },
        "id": "6leaqWxBYa5A",
        "outputId": "6edc593f-cb66-490a-d171-5e758bd2aa5d"
      },
      "execution_count": 54,
      "outputs": [
        {
          "output_type": "stream",
          "name": "stdout",
          "text": [
            "Cross Tabulation (counts):\n",
            "roberta_sentiment  label_0  label_1  label_2\n",
            "vader_sentiment                             \n",
            "negative               162       44        6\n",
            "neutral                 53       91        6\n",
            "positive                45       48       40\n",
            "\n",
            "Cross Tabulation (row-normalized):\n",
            "roberta_sentiment   label_0   label_1   label_2\n",
            "vader_sentiment                                \n",
            "negative           0.764151  0.207547  0.028302\n",
            "neutral            0.353333  0.606667  0.040000\n",
            "positive           0.338346  0.360902  0.300752\n"
          ]
        },
        {
          "output_type": "display_data",
          "data": {
            "text/plain": [
              "<Figure size 800x600 with 2 Axes>"
            ],
            "image/png": "[encoded data removed]"
          },
          "metadata": {}
        }
      ]
    },
    {
      "cell_type": "code",
      "source": [
        "sentiment_mapping = {'negative': -1, 'neutral': 0, 'positive': 1}\n",
        "if 'roberta_numeric' not in df.columns:\n",
        "    df['roberta_numeric'] = df['roberta_sentiment'].map(sentiment_mapping)"
      ],
      "metadata": {
        "id": "g5U-VzYzZCUu"
      },
      "execution_count": 55,
      "outputs": []
    },
    {
      "cell_type": "code",
      "source": [
        "plot_cols = [\"compound\", \"roberta_score\", \"roberta_numeric\"]\n",
        "\n",
        "# Create the pairplot. We add hue using 'roberta_sentiment' for a richer visualization.\n",
        "sns.pairplot(\n",
        "    df[plot_cols + [\"roberta_sentiment\"]],\n",
        "    hue=\"roberta_sentiment\",\n",
        "    diag_kind=\"kde\",\n",
        "    height=3\n",
        ")\n",
        "plt.suptitle(\"Pairplot: VADER and RoBERTa Sentiment Metrics\", y=1.02)\n",
        "plt.show()"
      ],
      "metadata": {
        "colab": {
          "base_uri": "https://localhost:8080/",
          "height": 939
        },
        "id": "Qbeqa_WbZH_j",
        "outputId": "a1b2f27e-ce31-4b6a-f84b-2ddc8943438f"
      },
      "execution_count": 56,
      "outputs": [
        {
          "output_type": "display_data",
          "data": {
            "text/plain": [
              "<Figure size 1039.36x900 with 12 Axes>"
            ],
            "image/png": "[encoded data removed]"
          },
          "metadata": {}
        }
      ]
    }
  ]
}